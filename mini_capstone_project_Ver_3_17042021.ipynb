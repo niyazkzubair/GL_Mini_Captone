{
 "cells": [
  {
   "cell_type": "code",
   "execution_count": 1,
   "metadata": {},
   "outputs": [],
   "source": [
    "import numpy as np\n",
    "import pandas as pd\n",
    "from sklearn.model_selection import train_test_split\n",
    "from sklearn.neighbors import KNeighborsClassifier\n",
    "from sklearn.naive_bayes import MultinomialNB\n",
    "from scipy.stats import zscore\n",
    "import seaborn as sns\n",
    "import matplotlib.pyplot as plt\n",
    "\n",
    "import warnings\n",
    "warnings.filterwarnings('ignore')"
   ]
  },
  {
   "cell_type": "code",
   "execution_count": 2,
   "metadata": {},
   "outputs": [],
   "source": [
    "import glob"
   ]
  },
  {
   "cell_type": "code",
   "execution_count": 3,
   "metadata": {},
   "outputs": [],
   "source": [
    "#Two data sets are used in this project\n",
    "#1 - Google mobility data set (https://www.gstatic.com/covid19/mobility/Region_Mobility_Report_CSVs.zip)\n",
    "#2 - COVID data set (https://covid.ourworldindata.org/data/owid-covid-data.csv)"
   ]
  },
  {
   "cell_type": "code",
   "execution_count": 4,
   "metadata": {},
   "outputs": [],
   "source": [
    "#First dataframe is from - #https://www.gstatic.com/covid19/mobility/Region_Mobility_Report_CSVs.zip\n",
    "#Read all csv files \n",
    "path = r'C:\\Personal\\AIML\\Mini_Capstone_Feb_2021\\Mobility\\Region_Mobility_Report_CSVs__18042021' # use your path\n",
    "all_files = glob.glob(path + \"/*.csv\")"
   ]
  },
  {
   "cell_type": "code",
   "execution_count": 5,
   "metadata": {},
   "outputs": [],
   "source": [
    "li = []\n",
    "\n",
    "for filename in all_files:\n",
    "    df = pd.read_csv(filename, index_col=None, header=0)\n",
    "    #print (filename)\n",
    "    li.append(df)"
   ]
  },
  {
   "cell_type": "code",
   "execution_count": 6,
   "metadata": {},
   "outputs": [],
   "source": [
    "google_mob_df = pd.concat(li, axis=0, ignore_index=True)"
   ]
  },
  {
   "cell_type": "code",
   "execution_count": 7,
   "metadata": {},
   "outputs": [
    {
     "data": {
      "text/plain": [
       "(5013220, 15)"
      ]
     },
     "execution_count": 7,
     "metadata": {},
     "output_type": "execute_result"
    }
   ],
   "source": [
    "google_mob_df.shape"
   ]
  },
  {
   "cell_type": "code",
   "execution_count": 8,
   "metadata": {},
   "outputs": [
    {
     "data": {
      "text/plain": [
       "country_region_code                                    object\n",
       "country_region                                         object\n",
       "sub_region_1                                           object\n",
       "sub_region_2                                           object\n",
       "metro_area                                             object\n",
       "iso_3166_2_code                                        object\n",
       "census_fips_code                                      float64\n",
       "place_id                                               object\n",
       "date                                                   object\n",
       "retail_and_recreation_percent_change_from_baseline    float64\n",
       "grocery_and_pharmacy_percent_change_from_baseline     float64\n",
       "parks_percent_change_from_baseline                    float64\n",
       "transit_stations_percent_change_from_baseline         float64\n",
       "workplaces_percent_change_from_baseline               float64\n",
       "residential_percent_change_from_baseline              float64\n",
       "dtype: object"
      ]
     },
     "execution_count": 8,
     "metadata": {},
     "output_type": "execute_result"
    }
   ],
   "source": [
    "google_mob_df.dtypes"
   ]
  },
  {
   "cell_type": "code",
   "execution_count": 9,
   "metadata": {},
   "outputs": [
    {
     "data": {
      "text/plain": [
       "country_region_code                                      3193\n",
       "country_region                                              0\n",
       "sub_region_1                                            84643\n",
       "sub_region_2                                           829507\n",
       "metro_area                                            4985730\n",
       "iso_3166_2_code                                       4121664\n",
       "census_fips_code                                      3951611\n",
       "place_id                                                 9055\n",
       "date                                                        0\n",
       "retail_and_recreation_percent_change_from_baseline    1877090\n",
       "grocery_and_pharmacy_percent_change_from_baseline     1993683\n",
       "parks_percent_change_from_baseline                    2602459\n",
       "transit_stations_percent_change_from_baseline         2486904\n",
       "workplaces_percent_change_from_baseline                216105\n",
       "residential_percent_change_from_baseline              2067383\n",
       "dtype: int64"
      ]
     },
     "execution_count": 9,
     "metadata": {},
     "output_type": "execute_result"
    }
   ],
   "source": [
    "#check for null values\n",
    "google_mob_df.isnull().sum()"
   ]
  },
  {
   "cell_type": "code",
   "execution_count": 10,
   "metadata": {},
   "outputs": [],
   "source": [
    "#The dataframe contains, mobility data for country, state (parameter: sub_region_1) and cities (parameter: metro_area)\n",
    "#Extract only country level mobility data, since the second data set for COVID and associated cases is only for countries\n",
    "#For this, need to take rows which null values in sub_region_1 and metro_area columns"
   ]
  },
  {
   "cell_type": "code",
   "execution_count": 11,
   "metadata": {},
   "outputs": [],
   "source": [
    "google_mob_df_sub_1 = google_mob_df[google_mob_df.sub_region_1.isnull()]\n",
    "google_mob_df_sub_2 = google_mob_df_sub_1[google_mob_df_sub_1.metro_area.isnull()]"
   ]
  },
  {
   "cell_type": "code",
   "execution_count": 12,
   "metadata": {},
   "outputs": [
    {
     "data": {
      "text/plain": [
       "(57153, 15)"
      ]
     },
     "execution_count": 12,
     "metadata": {},
     "output_type": "execute_result"
    }
   ],
   "source": [
    "#check the size of country level mobility data\n",
    "google_mob_df_sub_2.shape"
   ]
  },
  {
   "cell_type": "code",
   "execution_count": 13,
   "metadata": {},
   "outputs": [
    {
     "data": {
      "text/plain": [
       "country_region_code                                     425\n",
       "country_region                                            0\n",
       "sub_region_1                                          57153\n",
       "sub_region_2                                          57153\n",
       "metro_area                                            57153\n",
       "iso_3166_2_code                                       57153\n",
       "census_fips_code                                      57153\n",
       "place_id                                                  0\n",
       "date                                                      0\n",
       "retail_and_recreation_percent_change_from_baseline     1013\n",
       "grocery_and_pharmacy_percent_change_from_baseline      1071\n",
       "parks_percent_change_from_baseline                     1228\n",
       "transit_stations_percent_change_from_baseline           890\n",
       "workplaces_percent_change_from_baseline                 167\n",
       "residential_percent_change_from_baseline               1371\n",
       "dtype: int64"
      ]
     },
     "execution_count": 13,
     "metadata": {},
     "output_type": "execute_result"
    }
   ],
   "source": [
    "#check for the null data in this\n",
    "google_mob_df_sub_2.isnull().sum()"
   ]
  },
  {
   "cell_type": "code",
   "execution_count": 14,
   "metadata": {},
   "outputs": [],
   "source": [
    "#As we can see all entrtries in sub_region_1, sub_region_2 and metro_area columns are null\n",
    "#These columns will be removed later"
   ]
  },
  {
   "cell_type": "code",
   "execution_count": 15,
   "metadata": {},
   "outputs": [
    {
     "data": {
      "text/html": [
       "<div>\n",
       "<style scoped>\n",
       "    .dataframe tbody tr th:only-of-type {\n",
       "        vertical-align: middle;\n",
       "    }\n",
       "\n",
       "    .dataframe tbody tr th {\n",
       "        vertical-align: top;\n",
       "    }\n",
       "\n",
       "    .dataframe thead th {\n",
       "        text-align: right;\n",
       "    }\n",
       "</style>\n",
       "<table border=\"1\" class=\"dataframe\">\n",
       "  <thead>\n",
       "    <tr style=\"text-align: right;\">\n",
       "      <th></th>\n",
       "      <th>country_region_code</th>\n",
       "      <th>country_region</th>\n",
       "      <th>sub_region_1</th>\n",
       "      <th>sub_region_2</th>\n",
       "      <th>metro_area</th>\n",
       "      <th>iso_3166_2_code</th>\n",
       "      <th>census_fips_code</th>\n",
       "      <th>place_id</th>\n",
       "      <th>date</th>\n",
       "      <th>retail_and_recreation_percent_change_from_baseline</th>\n",
       "      <th>grocery_and_pharmacy_percent_change_from_baseline</th>\n",
       "      <th>parks_percent_change_from_baseline</th>\n",
       "      <th>transit_stations_percent_change_from_baseline</th>\n",
       "      <th>workplaces_percent_change_from_baseline</th>\n",
       "      <th>residential_percent_change_from_baseline</th>\n",
       "    </tr>\n",
       "  </thead>\n",
       "  <tbody>\n",
       "    <tr>\n",
       "      <th>0</th>\n",
       "      <td>AE</td>\n",
       "      <td>United Arab Emirates</td>\n",
       "      <td>NaN</td>\n",
       "      <td>NaN</td>\n",
       "      <td>NaN</td>\n",
       "      <td>NaN</td>\n",
       "      <td>NaN</td>\n",
       "      <td>ChIJvRKrsd9IXj4RpwoIwFYv0zM</td>\n",
       "      <td>2020-02-15</td>\n",
       "      <td>0.0</td>\n",
       "      <td>4.0</td>\n",
       "      <td>5.0</td>\n",
       "      <td>0.0</td>\n",
       "      <td>2.0</td>\n",
       "      <td>1.0</td>\n",
       "    </tr>\n",
       "    <tr>\n",
       "      <th>1</th>\n",
       "      <td>AE</td>\n",
       "      <td>United Arab Emirates</td>\n",
       "      <td>NaN</td>\n",
       "      <td>NaN</td>\n",
       "      <td>NaN</td>\n",
       "      <td>NaN</td>\n",
       "      <td>NaN</td>\n",
       "      <td>ChIJvRKrsd9IXj4RpwoIwFYv0zM</td>\n",
       "      <td>2020-02-16</td>\n",
       "      <td>1.0</td>\n",
       "      <td>4.0</td>\n",
       "      <td>4.0</td>\n",
       "      <td>1.0</td>\n",
       "      <td>2.0</td>\n",
       "      <td>1.0</td>\n",
       "    </tr>\n",
       "    <tr>\n",
       "      <th>2</th>\n",
       "      <td>AE</td>\n",
       "      <td>United Arab Emirates</td>\n",
       "      <td>NaN</td>\n",
       "      <td>NaN</td>\n",
       "      <td>NaN</td>\n",
       "      <td>NaN</td>\n",
       "      <td>NaN</td>\n",
       "      <td>ChIJvRKrsd9IXj4RpwoIwFYv0zM</td>\n",
       "      <td>2020-02-17</td>\n",
       "      <td>-1.0</td>\n",
       "      <td>1.0</td>\n",
       "      <td>5.0</td>\n",
       "      <td>1.0</td>\n",
       "      <td>2.0</td>\n",
       "      <td>1.0</td>\n",
       "    </tr>\n",
       "    <tr>\n",
       "      <th>3</th>\n",
       "      <td>AE</td>\n",
       "      <td>United Arab Emirates</td>\n",
       "      <td>NaN</td>\n",
       "      <td>NaN</td>\n",
       "      <td>NaN</td>\n",
       "      <td>NaN</td>\n",
       "      <td>NaN</td>\n",
       "      <td>ChIJvRKrsd9IXj4RpwoIwFYv0zM</td>\n",
       "      <td>2020-02-18</td>\n",
       "      <td>-2.0</td>\n",
       "      <td>1.0</td>\n",
       "      <td>5.0</td>\n",
       "      <td>0.0</td>\n",
       "      <td>2.0</td>\n",
       "      <td>1.0</td>\n",
       "    </tr>\n",
       "    <tr>\n",
       "      <th>4</th>\n",
       "      <td>AE</td>\n",
       "      <td>United Arab Emirates</td>\n",
       "      <td>NaN</td>\n",
       "      <td>NaN</td>\n",
       "      <td>NaN</td>\n",
       "      <td>NaN</td>\n",
       "      <td>NaN</td>\n",
       "      <td>ChIJvRKrsd9IXj4RpwoIwFYv0zM</td>\n",
       "      <td>2020-02-19</td>\n",
       "      <td>-2.0</td>\n",
       "      <td>0.0</td>\n",
       "      <td>4.0</td>\n",
       "      <td>-1.0</td>\n",
       "      <td>2.0</td>\n",
       "      <td>1.0</td>\n",
       "    </tr>\n",
       "  </tbody>\n",
       "</table>\n",
       "</div>"
      ],
      "text/plain": [
       "  country_region_code        country_region sub_region_1 sub_region_2  \\\n",
       "0                  AE  United Arab Emirates          NaN          NaN   \n",
       "1                  AE  United Arab Emirates          NaN          NaN   \n",
       "2                  AE  United Arab Emirates          NaN          NaN   \n",
       "3                  AE  United Arab Emirates          NaN          NaN   \n",
       "4                  AE  United Arab Emirates          NaN          NaN   \n",
       "\n",
       "  metro_area iso_3166_2_code  census_fips_code                     place_id  \\\n",
       "0        NaN             NaN               NaN  ChIJvRKrsd9IXj4RpwoIwFYv0zM   \n",
       "1        NaN             NaN               NaN  ChIJvRKrsd9IXj4RpwoIwFYv0zM   \n",
       "2        NaN             NaN               NaN  ChIJvRKrsd9IXj4RpwoIwFYv0zM   \n",
       "3        NaN             NaN               NaN  ChIJvRKrsd9IXj4RpwoIwFYv0zM   \n",
       "4        NaN             NaN               NaN  ChIJvRKrsd9IXj4RpwoIwFYv0zM   \n",
       "\n",
       "         date  retail_and_recreation_percent_change_from_baseline  \\\n",
       "0  2020-02-15                                                0.0    \n",
       "1  2020-02-16                                                1.0    \n",
       "2  2020-02-17                                               -1.0    \n",
       "3  2020-02-18                                               -2.0    \n",
       "4  2020-02-19                                               -2.0    \n",
       "\n",
       "   grocery_and_pharmacy_percent_change_from_baseline  \\\n",
       "0                                                4.0   \n",
       "1                                                4.0   \n",
       "2                                                1.0   \n",
       "3                                                1.0   \n",
       "4                                                0.0   \n",
       "\n",
       "   parks_percent_change_from_baseline  \\\n",
       "0                                 5.0   \n",
       "1                                 4.0   \n",
       "2                                 5.0   \n",
       "3                                 5.0   \n",
       "4                                 4.0   \n",
       "\n",
       "   transit_stations_percent_change_from_baseline  \\\n",
       "0                                            0.0   \n",
       "1                                            1.0   \n",
       "2                                            1.0   \n",
       "3                                            0.0   \n",
       "4                                           -1.0   \n",
       "\n",
       "   workplaces_percent_change_from_baseline  \\\n",
       "0                                      2.0   \n",
       "1                                      2.0   \n",
       "2                                      2.0   \n",
       "3                                      2.0   \n",
       "4                                      2.0   \n",
       "\n",
       "   residential_percent_change_from_baseline  \n",
       "0                                       1.0  \n",
       "1                                       1.0  \n",
       "2                                       1.0  \n",
       "3                                       1.0  \n",
       "4                                       1.0  "
      ]
     },
     "execution_count": 15,
     "metadata": {},
     "output_type": "execute_result"
    }
   ],
   "source": [
    "google_mob_df_sub_2.head()"
   ]
  },
  {
   "cell_type": "code",
   "execution_count": 16,
   "metadata": {},
   "outputs": [],
   "source": [
    "#drop unwanted columns as part of data clean up\n",
    "mob_df = google_mob_df_sub_2.drop(['sub_region_1','sub_region_2','metro_area','iso_3166_2_code','iso_3166_2_code','census_fips_code'],axis=1)"
   ]
  },
  {
   "cell_type": "code",
   "execution_count": 17,
   "metadata": {},
   "outputs": [
    {
     "data": {
      "text/html": [
       "<div>\n",
       "<style scoped>\n",
       "    .dataframe tbody tr th:only-of-type {\n",
       "        vertical-align: middle;\n",
       "    }\n",
       "\n",
       "    .dataframe tbody tr th {\n",
       "        vertical-align: top;\n",
       "    }\n",
       "\n",
       "    .dataframe thead th {\n",
       "        text-align: right;\n",
       "    }\n",
       "</style>\n",
       "<table border=\"1\" class=\"dataframe\">\n",
       "  <thead>\n",
       "    <tr style=\"text-align: right;\">\n",
       "      <th></th>\n",
       "      <th>country_region_code</th>\n",
       "      <th>country_region</th>\n",
       "      <th>place_id</th>\n",
       "      <th>date</th>\n",
       "      <th>retail_and_recreation_percent_change_from_baseline</th>\n",
       "      <th>grocery_and_pharmacy_percent_change_from_baseline</th>\n",
       "      <th>parks_percent_change_from_baseline</th>\n",
       "      <th>transit_stations_percent_change_from_baseline</th>\n",
       "      <th>workplaces_percent_change_from_baseline</th>\n",
       "      <th>residential_percent_change_from_baseline</th>\n",
       "    </tr>\n",
       "  </thead>\n",
       "  <tbody>\n",
       "    <tr>\n",
       "      <th>0</th>\n",
       "      <td>AE</td>\n",
       "      <td>United Arab Emirates</td>\n",
       "      <td>ChIJvRKrsd9IXj4RpwoIwFYv0zM</td>\n",
       "      <td>2020-02-15</td>\n",
       "      <td>0.0</td>\n",
       "      <td>4.0</td>\n",
       "      <td>5.0</td>\n",
       "      <td>0.0</td>\n",
       "      <td>2.0</td>\n",
       "      <td>1.0</td>\n",
       "    </tr>\n",
       "    <tr>\n",
       "      <th>1</th>\n",
       "      <td>AE</td>\n",
       "      <td>United Arab Emirates</td>\n",
       "      <td>ChIJvRKrsd9IXj4RpwoIwFYv0zM</td>\n",
       "      <td>2020-02-16</td>\n",
       "      <td>1.0</td>\n",
       "      <td>4.0</td>\n",
       "      <td>4.0</td>\n",
       "      <td>1.0</td>\n",
       "      <td>2.0</td>\n",
       "      <td>1.0</td>\n",
       "    </tr>\n",
       "    <tr>\n",
       "      <th>2</th>\n",
       "      <td>AE</td>\n",
       "      <td>United Arab Emirates</td>\n",
       "      <td>ChIJvRKrsd9IXj4RpwoIwFYv0zM</td>\n",
       "      <td>2020-02-17</td>\n",
       "      <td>-1.0</td>\n",
       "      <td>1.0</td>\n",
       "      <td>5.0</td>\n",
       "      <td>1.0</td>\n",
       "      <td>2.0</td>\n",
       "      <td>1.0</td>\n",
       "    </tr>\n",
       "    <tr>\n",
       "      <th>3</th>\n",
       "      <td>AE</td>\n",
       "      <td>United Arab Emirates</td>\n",
       "      <td>ChIJvRKrsd9IXj4RpwoIwFYv0zM</td>\n",
       "      <td>2020-02-18</td>\n",
       "      <td>-2.0</td>\n",
       "      <td>1.0</td>\n",
       "      <td>5.0</td>\n",
       "      <td>0.0</td>\n",
       "      <td>2.0</td>\n",
       "      <td>1.0</td>\n",
       "    </tr>\n",
       "    <tr>\n",
       "      <th>4</th>\n",
       "      <td>AE</td>\n",
       "      <td>United Arab Emirates</td>\n",
       "      <td>ChIJvRKrsd9IXj4RpwoIwFYv0zM</td>\n",
       "      <td>2020-02-19</td>\n",
       "      <td>-2.0</td>\n",
       "      <td>0.0</td>\n",
       "      <td>4.0</td>\n",
       "      <td>-1.0</td>\n",
       "      <td>2.0</td>\n",
       "      <td>1.0</td>\n",
       "    </tr>\n",
       "  </tbody>\n",
       "</table>\n",
       "</div>"
      ],
      "text/plain": [
       "  country_region_code        country_region                     place_id  \\\n",
       "0                  AE  United Arab Emirates  ChIJvRKrsd9IXj4RpwoIwFYv0zM   \n",
       "1                  AE  United Arab Emirates  ChIJvRKrsd9IXj4RpwoIwFYv0zM   \n",
       "2                  AE  United Arab Emirates  ChIJvRKrsd9IXj4RpwoIwFYv0zM   \n",
       "3                  AE  United Arab Emirates  ChIJvRKrsd9IXj4RpwoIwFYv0zM   \n",
       "4                  AE  United Arab Emirates  ChIJvRKrsd9IXj4RpwoIwFYv0zM   \n",
       "\n",
       "         date  retail_and_recreation_percent_change_from_baseline  \\\n",
       "0  2020-02-15                                                0.0    \n",
       "1  2020-02-16                                                1.0    \n",
       "2  2020-02-17                                               -1.0    \n",
       "3  2020-02-18                                               -2.0    \n",
       "4  2020-02-19                                               -2.0    \n",
       "\n",
       "   grocery_and_pharmacy_percent_change_from_baseline  \\\n",
       "0                                                4.0   \n",
       "1                                                4.0   \n",
       "2                                                1.0   \n",
       "3                                                1.0   \n",
       "4                                                0.0   \n",
       "\n",
       "   parks_percent_change_from_baseline  \\\n",
       "0                                 5.0   \n",
       "1                                 4.0   \n",
       "2                                 5.0   \n",
       "3                                 5.0   \n",
       "4                                 4.0   \n",
       "\n",
       "   transit_stations_percent_change_from_baseline  \\\n",
       "0                                            0.0   \n",
       "1                                            1.0   \n",
       "2                                            1.0   \n",
       "3                                            0.0   \n",
       "4                                           -1.0   \n",
       "\n",
       "   workplaces_percent_change_from_baseline  \\\n",
       "0                                      2.0   \n",
       "1                                      2.0   \n",
       "2                                      2.0   \n",
       "3                                      2.0   \n",
       "4                                      2.0   \n",
       "\n",
       "   residential_percent_change_from_baseline  \n",
       "0                                       1.0  \n",
       "1                                       1.0  \n",
       "2                                       1.0  \n",
       "3                                       1.0  \n",
       "4                                       1.0  "
      ]
     },
     "execution_count": 17,
     "metadata": {},
     "output_type": "execute_result"
    }
   ],
   "source": [
    "mob_df.head()"
   ]
  },
  {
   "cell_type": "code",
   "execution_count": 18,
   "metadata": {},
   "outputs": [
    {
     "data": {
      "text/plain": [
       "(57153, 10)"
      ]
     },
     "execution_count": 18,
     "metadata": {},
     "output_type": "execute_result"
    }
   ],
   "source": [
    "mob_df.shape"
   ]
  },
  {
   "cell_type": "code",
   "execution_count": 19,
   "metadata": {},
   "outputs": [
    {
     "data": {
      "text/plain": [
       "array(['AE', 'AF', 'AG', 'AO', 'AR', 'AT', 'AU', 'AW', 'BA', 'BB', 'BD',\n",
       "       'BE', 'BF', 'BG', 'BH', 'BJ', 'BO', 'BR', 'BS', 'BW', 'BY', 'BZ',\n",
       "       'CA', 'CH', 'CI', 'CL', 'CM', 'CO', 'CR', 'CV', 'CZ', 'DE', 'DK',\n",
       "       'DO', 'EC', 'EE', 'EG', 'ES', 'FI', 'FJ', 'FR', 'GA', 'GB', 'GE',\n",
       "       'GH', 'GR', 'GT', 'GW', 'HK', 'HN', 'HR', 'HT', 'HU', 'ID', 'IE',\n",
       "       'IL', 'IN', 'IQ', 'IT', 'JM', 'JO', 'JP', 'KE', 'KG', 'KH', 'KR',\n",
       "       'KW', 'KZ', 'LA', 'LB', 'LI', 'LK', 'LT', 'LU', 'LV', 'LY', 'MA',\n",
       "       'MD', 'MK', 'ML', 'MM', 'MN', 'MT', 'MU', 'MX', 'MY', 'MZ', nan,\n",
       "       'NE', 'NG', 'NI', 'NL', 'NO', 'NP', 'NZ', 'OM', 'PA', 'PE', 'PG',\n",
       "       'PH', 'PK', 'PL', 'PR', 'PT', 'PY', 'QA', 'RE', 'RO', 'RS', 'RU',\n",
       "       'RW', 'SA', 'SE', 'SG', 'SI', 'SK', 'SN', 'SV', 'TG', 'TH', 'TJ',\n",
       "       'TR', 'TT', 'TW', 'TZ', 'UA', 'UG', 'US', 'UY', 'VE', 'VN', 'YE',\n",
       "       'ZA', 'ZM', 'ZW'], dtype=object)"
      ]
     },
     "execution_count": 19,
     "metadata": {},
     "output_type": "execute_result"
    }
   ],
   "source": [
    "#List of countries\n",
    "mob_df['country_region_code'].unique()"
   ]
  },
  {
   "cell_type": "code",
   "execution_count": 20,
   "metadata": {},
   "outputs": [
    {
     "data": {
      "text/plain": [
       "135"
      ]
     },
     "execution_count": 20,
     "metadata": {},
     "output_type": "execute_result"
    }
   ],
   "source": [
    "#Number of countries from the mobility data frame\n",
    "len(mob_df['country_region_code'].unique())"
   ]
  },
  {
   "cell_type": "code",
   "execution_count": 21,
   "metadata": {},
   "outputs": [
    {
     "data": {
      "text/plain": [
       "country_region_code                                    object\n",
       "country_region                                         object\n",
       "place_id                                               object\n",
       "date                                                   object\n",
       "retail_and_recreation_percent_change_from_baseline    float64\n",
       "grocery_and_pharmacy_percent_change_from_baseline     float64\n",
       "parks_percent_change_from_baseline                    float64\n",
       "transit_stations_percent_change_from_baseline         float64\n",
       "workplaces_percent_change_from_baseline               float64\n",
       "residential_percent_change_from_baseline              float64\n",
       "dtype: object"
      ]
     },
     "execution_count": 21,
     "metadata": {},
     "output_type": "execute_result"
    }
   ],
   "source": [
    "mob_df.dtypes"
   ]
  },
  {
   "cell_type": "code",
   "execution_count": 22,
   "metadata": {},
   "outputs": [
    {
     "data": {
      "text/html": [
       "<div>\n",
       "<style scoped>\n",
       "    .dataframe tbody tr th:only-of-type {\n",
       "        vertical-align: middle;\n",
       "    }\n",
       "\n",
       "    .dataframe tbody tr th {\n",
       "        vertical-align: top;\n",
       "    }\n",
       "\n",
       "    .dataframe thead th {\n",
       "        text-align: right;\n",
       "    }\n",
       "</style>\n",
       "<table border=\"1\" class=\"dataframe\">\n",
       "  <thead>\n",
       "    <tr style=\"text-align: right;\">\n",
       "      <th></th>\n",
       "      <th>count</th>\n",
       "      <th>mean</th>\n",
       "      <th>std</th>\n",
       "      <th>min</th>\n",
       "      <th>25%</th>\n",
       "      <th>50%</th>\n",
       "      <th>75%</th>\n",
       "      <th>max</th>\n",
       "    </tr>\n",
       "  </thead>\n",
       "  <tbody>\n",
       "    <tr>\n",
       "      <th>retail_and_recreation_percent_change_from_baseline</th>\n",
       "      <td>56140.0</td>\n",
       "      <td>-23.303313</td>\n",
       "      <td>24.216882</td>\n",
       "      <td>-100.0</td>\n",
       "      <td>-37.0</td>\n",
       "      <td>-20.0</td>\n",
       "      <td>-7.0</td>\n",
       "      <td>120.0</td>\n",
       "    </tr>\n",
       "    <tr>\n",
       "      <th>grocery_and_pharmacy_percent_change_from_baseline</th>\n",
       "      <td>56082.0</td>\n",
       "      <td>-4.627421</td>\n",
       "      <td>23.005162</td>\n",
       "      <td>-100.0</td>\n",
       "      <td>-15.0</td>\n",
       "      <td>-3.0</td>\n",
       "      <td>6.0</td>\n",
       "      <td>166.0</td>\n",
       "    </tr>\n",
       "    <tr>\n",
       "      <th>parks_percent_change_from_baseline</th>\n",
       "      <td>55925.0</td>\n",
       "      <td>-3.251140</td>\n",
       "      <td>45.216040</td>\n",
       "      <td>-100.0</td>\n",
       "      <td>-28.0</td>\n",
       "      <td>-11.0</td>\n",
       "      <td>9.0</td>\n",
       "      <td>517.0</td>\n",
       "    </tr>\n",
       "    <tr>\n",
       "      <th>transit_stations_percent_change_from_baseline</th>\n",
       "      <td>56263.0</td>\n",
       "      <td>-27.684571</td>\n",
       "      <td>24.418932</td>\n",
       "      <td>-100.0</td>\n",
       "      <td>-44.0</td>\n",
       "      <td>-28.0</td>\n",
       "      <td>-11.0</td>\n",
       "      <td>91.0</td>\n",
       "    </tr>\n",
       "    <tr>\n",
       "      <th>workplaces_percent_change_from_baseline</th>\n",
       "      <td>56986.0</td>\n",
       "      <td>-21.627575</td>\n",
       "      <td>19.611860</td>\n",
       "      <td>-99.0</td>\n",
       "      <td>-32.0</td>\n",
       "      <td>-20.0</td>\n",
       "      <td>-8.0</td>\n",
       "      <td>131.0</td>\n",
       "    </tr>\n",
       "    <tr>\n",
       "      <th>residential_percent_change_from_baseline</th>\n",
       "      <td>55782.0</td>\n",
       "      <td>8.845434</td>\n",
       "      <td>8.803893</td>\n",
       "      <td>-35.0</td>\n",
       "      <td>2.0</td>\n",
       "      <td>8.0</td>\n",
       "      <td>13.0</td>\n",
       "      <td>55.0</td>\n",
       "    </tr>\n",
       "  </tbody>\n",
       "</table>\n",
       "</div>"
      ],
      "text/plain": [
       "                                                      count       mean  \\\n",
       "retail_and_recreation_percent_change_from_baseline  56140.0 -23.303313   \n",
       "grocery_and_pharmacy_percent_change_from_baseline   56082.0  -4.627421   \n",
       "parks_percent_change_from_baseline                  55925.0  -3.251140   \n",
       "transit_stations_percent_change_from_baseline       56263.0 -27.684571   \n",
       "workplaces_percent_change_from_baseline             56986.0 -21.627575   \n",
       "residential_percent_change_from_baseline            55782.0   8.845434   \n",
       "\n",
       "                                                          std    min   25%  \\\n",
       "retail_and_recreation_percent_change_from_baseline  24.216882 -100.0 -37.0   \n",
       "grocery_and_pharmacy_percent_change_from_baseline   23.005162 -100.0 -15.0   \n",
       "parks_percent_change_from_baseline                  45.216040 -100.0 -28.0   \n",
       "transit_stations_percent_change_from_baseline       24.418932 -100.0 -44.0   \n",
       "workplaces_percent_change_from_baseline             19.611860  -99.0 -32.0   \n",
       "residential_percent_change_from_baseline             8.803893  -35.0   2.0   \n",
       "\n",
       "                                                     50%   75%    max  \n",
       "retail_and_recreation_percent_change_from_baseline -20.0  -7.0  120.0  \n",
       "grocery_and_pharmacy_percent_change_from_baseline   -3.0   6.0  166.0  \n",
       "parks_percent_change_from_baseline                 -11.0   9.0  517.0  \n",
       "transit_stations_percent_change_from_baseline      -28.0 -11.0   91.0  \n",
       "workplaces_percent_change_from_baseline            -20.0  -8.0  131.0  \n",
       "residential_percent_change_from_baseline             8.0  13.0   55.0  "
      ]
     },
     "execution_count": 22,
     "metadata": {},
     "output_type": "execute_result"
    }
   ],
   "source": [
    "mob_df.describe().T"
   ]
  },
  {
   "cell_type": "code",
   "execution_count": 23,
   "metadata": {},
   "outputs": [
    {
     "data": {
      "text/plain": [
       "<matplotlib.axes._subplots.AxesSubplot at 0x23a8dabae48>"
      ]
     },
     "execution_count": 23,
     "metadata": {},
     "output_type": "execute_result"
    },
    {
     "data": {
      "text/plain": [
       "<Figure size 432x288 with 0 Axes>"
      ]
     },
     "metadata": {},
     "output_type": "display_data"
    },
    {
     "data": {
      "image/png": "[encoded data removed]",
      "text/plain": [
       "<Figure size 2304x18432 with 1 Axes>"
      ]
     },
     "metadata": {
      "needs_background": "light"
     },
     "output_type": "display_data"
    }
   ],
   "source": [
    "#Count of entries for each country\n",
    "\n",
    "fig = plt.figure()\n",
    "plt.figure(figsize=(32, 256))\n",
    "plt.xlabel('xlabel', fontsize=60)\n",
    "plt.ylabel('ylabel', fontsize=60)\n",
    "fig.suptitle('test title', fontsize=20)\n",
    "sns.countplot(y=mob_df.country_region_code)"
   ]
  },
  {
   "cell_type": "code",
   "execution_count": 24,
   "metadata": {},
   "outputs": [],
   "source": [
    "#function to convert time series data to supervised learning data\n",
    "#In each row for the mobility parameters, two previous and two future data is taken\n",
    "\n",
    "def series_to_supervised(data, col_names,n_in=1, n_out=1, dropnan=True):\n",
    "    n_vars = 1 if type(data) is list else data.shape[1]\n",
    "    df = pd.DataFrame(data)\n",
    "    #print(\"Coulmns: \",list(col_names))\n",
    "    cols, names = list(), list()\n",
    "    # input sequence (t-n, ... t-1)\n",
    "    for i in range(n_in, 0, -1):\n",
    "        cols.append(df.shift(i))\n",
    "        #names += [('var%d(t-%d)' % (j+1, i)) for j in range(n_vars)]\n",
    "        names += [('%s_t_p%d' % (col_name, i)) for col_name in list(col_names)]\n",
    "    # forecast sequence (t, t+1, ... t+n)\n",
    "    for i in range(0, n_out):\n",
    "        cols.append(df.shift(-i))\n",
    "        if i == 0:\n",
    "            names += [('%s_t_0' % (col_name)) for col_name in list(col_names)]\n",
    "            #names += [('var%d(t)' % (j+1)) for j in range(n_vars)]\n",
    "        else:\n",
    "            #names += [('var%d(t+%d)' % (j+1, i)) for j in range(n_vars)]\n",
    "            names += [('%s_t_m%d' % (col_name, i)) for col_name in list(col_names)]\n",
    "    # put it all together\n",
    "    agg = pd.concat(cols, axis=1)\n",
    "    agg.columns = names\n",
    "    # drop rows with NaN values\n",
    "    if dropnan:\n",
    "        agg.dropna(inplace=True)\n",
    "    return agg"
   ]
  },
  {
   "cell_type": "code",
   "execution_count": 25,
   "metadata": {},
   "outputs": [],
   "source": [
    "cleaned_mob_data = pd.DataFrame(series_to_supervised(mob_df.values,mob_df.columns,1,1))"
   ]
  },
  {
   "cell_type": "code",
   "execution_count": 26,
   "metadata": {},
   "outputs": [],
   "source": [
    "#Uncomment below step if no need to use above time series conversion\n",
    "#cleaned_mob_data = mob_df"
   ]
  },
  {
   "cell_type": "code",
   "execution_count": 27,
   "metadata": {},
   "outputs": [
    {
     "data": {
      "text/plain": [
       "Index(['country_region_code_t_p1', 'country_region_t_p1', 'place_id_t_p1',\n",
       "       'date_t_p1', 'retail_and_recreation_percent_change_from_baseline_t_p1',\n",
       "       'grocery_and_pharmacy_percent_change_from_baseline_t_p1',\n",
       "       'parks_percent_change_from_baseline_t_p1',\n",
       "       'transit_stations_percent_change_from_baseline_t_p1',\n",
       "       'workplaces_percent_change_from_baseline_t_p1',\n",
       "       'residential_percent_change_from_baseline_t_p1',\n",
       "       'country_region_code_t_0', 'country_region_t_0', 'place_id_t_0',\n",
       "       'date_t_0', 'retail_and_recreation_percent_change_from_baseline_t_0',\n",
       "       'grocery_and_pharmacy_percent_change_from_baseline_t_0',\n",
       "       'parks_percent_change_from_baseline_t_0',\n",
       "       'transit_stations_percent_change_from_baseline_t_0',\n",
       "       'workplaces_percent_change_from_baseline_t_0',\n",
       "       'residential_percent_change_from_baseline_t_0'],\n",
       "      dtype='object')"
      ]
     },
     "execution_count": 27,
     "metadata": {},
     "output_type": "execute_result"
    }
   ],
   "source": [
    "cleaned_mob_data.columns"
   ]
  },
  {
   "cell_type": "code",
   "execution_count": 28,
   "metadata": {},
   "outputs": [],
   "source": [
    "cleaned_mob_data.rename(columns = {'date_t_0':'date'}, inplace = True) \n",
    "cleaned_mob_data.rename(columns = {'country_region_t_0':'country_region'}, inplace = True) "
   ]
  },
  {
   "cell_type": "code",
   "execution_count": 29,
   "metadata": {},
   "outputs": [],
   "source": [
    "cleaned_mob_data = cleaned_mob_data.drop([#'country_region_code_t_p2','country_region_t_p2','date_t_p2','place_id_t_p2',\n",
    "                    'country_region_code_t_p1','country_region_t_p1','date_t_p1','place_id_t_p1',\n",
    "                    #'country_region_code_t_m1','country_region_t_m1','date_t_m1','place_id_t_m1',\n",
    "                    'country_region_code_t_0','place_id_t_0'],axis=1)"
   ]
  },
  {
   "cell_type": "code",
   "execution_count": 30,
   "metadata": {},
   "outputs": [
    {
     "data": {
      "text/plain": [
       "retail_and_recreation_percent_change_from_baseline_t_p1    object\n",
       "grocery_and_pharmacy_percent_change_from_baseline_t_p1     object\n",
       "parks_percent_change_from_baseline_t_p1                    object\n",
       "transit_stations_percent_change_from_baseline_t_p1         object\n",
       "workplaces_percent_change_from_baseline_t_p1               object\n",
       "residential_percent_change_from_baseline_t_p1              object\n",
       "country_region                                             object\n",
       "date                                                       object\n",
       "retail_and_recreation_percent_change_from_baseline_t_0     object\n",
       "grocery_and_pharmacy_percent_change_from_baseline_t_0      object\n",
       "parks_percent_change_from_baseline_t_0                     object\n",
       "transit_stations_percent_change_from_baseline_t_0          object\n",
       "workplaces_percent_change_from_baseline_t_0                object\n",
       "residential_percent_change_from_baseline_t_0               object\n",
       "dtype: object"
      ]
     },
     "execution_count": 30,
     "metadata": {},
     "output_type": "execute_result"
    }
   ],
   "source": [
    "cleaned_mob_data.dtypes"
   ]
  },
  {
   "cell_type": "code",
   "execution_count": 31,
   "metadata": {},
   "outputs": [],
   "source": [
    "columns = list(cleaned_mob_data.columns)\n",
    "\n",
    "for index, col in enumerate(columns):\n",
    "    #print (col)\n",
    "    if (col != 'date' and col != 'country_region' and col != 'country_region_code_t_0'):\n",
    "        cleaned_mob_data[col] = cleaned_mob_data[col].astype(float)"
   ]
  },
  {
   "cell_type": "code",
   "execution_count": 32,
   "metadata": {},
   "outputs": [
    {
     "data": {
      "text/plain": [
       "retail_and_recreation_percent_change_from_baseline_t_p1    float64\n",
       "grocery_and_pharmacy_percent_change_from_baseline_t_p1     float64\n",
       "parks_percent_change_from_baseline_t_p1                    float64\n",
       "transit_stations_percent_change_from_baseline_t_p1         float64\n",
       "workplaces_percent_change_from_baseline_t_p1               float64\n",
       "residential_percent_change_from_baseline_t_p1              float64\n",
       "country_region                                              object\n",
       "date                                                        object\n",
       "retail_and_recreation_percent_change_from_baseline_t_0     float64\n",
       "grocery_and_pharmacy_percent_change_from_baseline_t_0      float64\n",
       "parks_percent_change_from_baseline_t_0                     float64\n",
       "transit_stations_percent_change_from_baseline_t_0          float64\n",
       "workplaces_percent_change_from_baseline_t_0                float64\n",
       "residential_percent_change_from_baseline_t_0               float64\n",
       "dtype: object"
      ]
     },
     "execution_count": 32,
     "metadata": {},
     "output_type": "execute_result"
    }
   ],
   "source": [
    "cleaned_mob_data.dtypes"
   ]
  },
  {
   "cell_type": "code",
   "execution_count": 33,
   "metadata": {},
   "outputs": [
    {
     "data": {
      "text/plain": [
       "(54484, 14)"
      ]
     },
     "execution_count": 33,
     "metadata": {},
     "output_type": "execute_result"
    }
   ],
   "source": [
    "cleaned_mob_data.shape"
   ]
  },
  {
   "cell_type": "code",
   "execution_count": 34,
   "metadata": {},
   "outputs": [
    {
     "data": {
      "text/html": [
       "<div>\n",
       "<style scoped>\n",
       "    .dataframe tbody tr th:only-of-type {\n",
       "        vertical-align: middle;\n",
       "    }\n",
       "\n",
       "    .dataframe tbody tr th {\n",
       "        vertical-align: top;\n",
       "    }\n",
       "\n",
       "    .dataframe thead th {\n",
       "        text-align: right;\n",
       "    }\n",
       "</style>\n",
       "<table border=\"1\" class=\"dataframe\">\n",
       "  <thead>\n",
       "    <tr style=\"text-align: right;\">\n",
       "      <th></th>\n",
       "      <th>retail_and_recreation_percent_change_from_baseline_t_p1</th>\n",
       "      <th>grocery_and_pharmacy_percent_change_from_baseline_t_p1</th>\n",
       "      <th>parks_percent_change_from_baseline_t_p1</th>\n",
       "      <th>transit_stations_percent_change_from_baseline_t_p1</th>\n",
       "      <th>workplaces_percent_change_from_baseline_t_p1</th>\n",
       "      <th>residential_percent_change_from_baseline_t_p1</th>\n",
       "      <th>country_region</th>\n",
       "      <th>date</th>\n",
       "      <th>retail_and_recreation_percent_change_from_baseline_t_0</th>\n",
       "      <th>grocery_and_pharmacy_percent_change_from_baseline_t_0</th>\n",
       "      <th>parks_percent_change_from_baseline_t_0</th>\n",
       "      <th>transit_stations_percent_change_from_baseline_t_0</th>\n",
       "      <th>workplaces_percent_change_from_baseline_t_0</th>\n",
       "      <th>residential_percent_change_from_baseline_t_0</th>\n",
       "    </tr>\n",
       "  </thead>\n",
       "  <tbody>\n",
       "    <tr>\n",
       "      <th>1</th>\n",
       "      <td>0.0</td>\n",
       "      <td>4.0</td>\n",
       "      <td>5.0</td>\n",
       "      <td>0.0</td>\n",
       "      <td>2.0</td>\n",
       "      <td>1.0</td>\n",
       "      <td>United Arab Emirates</td>\n",
       "      <td>2020-02-16</td>\n",
       "      <td>1.0</td>\n",
       "      <td>4.0</td>\n",
       "      <td>4.0</td>\n",
       "      <td>1.0</td>\n",
       "      <td>2.0</td>\n",
       "      <td>1.0</td>\n",
       "    </tr>\n",
       "    <tr>\n",
       "      <th>2</th>\n",
       "      <td>1.0</td>\n",
       "      <td>4.0</td>\n",
       "      <td>4.0</td>\n",
       "      <td>1.0</td>\n",
       "      <td>2.0</td>\n",
       "      <td>1.0</td>\n",
       "      <td>United Arab Emirates</td>\n",
       "      <td>2020-02-17</td>\n",
       "      <td>-1.0</td>\n",
       "      <td>1.0</td>\n",
       "      <td>5.0</td>\n",
       "      <td>1.0</td>\n",
       "      <td>2.0</td>\n",
       "      <td>1.0</td>\n",
       "    </tr>\n",
       "    <tr>\n",
       "      <th>3</th>\n",
       "      <td>-1.0</td>\n",
       "      <td>1.0</td>\n",
       "      <td>5.0</td>\n",
       "      <td>1.0</td>\n",
       "      <td>2.0</td>\n",
       "      <td>1.0</td>\n",
       "      <td>United Arab Emirates</td>\n",
       "      <td>2020-02-18</td>\n",
       "      <td>-2.0</td>\n",
       "      <td>1.0</td>\n",
       "      <td>5.0</td>\n",
       "      <td>0.0</td>\n",
       "      <td>2.0</td>\n",
       "      <td>1.0</td>\n",
       "    </tr>\n",
       "    <tr>\n",
       "      <th>4</th>\n",
       "      <td>-2.0</td>\n",
       "      <td>1.0</td>\n",
       "      <td>5.0</td>\n",
       "      <td>0.0</td>\n",
       "      <td>2.0</td>\n",
       "      <td>1.0</td>\n",
       "      <td>United Arab Emirates</td>\n",
       "      <td>2020-02-19</td>\n",
       "      <td>-2.0</td>\n",
       "      <td>0.0</td>\n",
       "      <td>4.0</td>\n",
       "      <td>-1.0</td>\n",
       "      <td>2.0</td>\n",
       "      <td>1.0</td>\n",
       "    </tr>\n",
       "    <tr>\n",
       "      <th>5</th>\n",
       "      <td>-2.0</td>\n",
       "      <td>0.0</td>\n",
       "      <td>4.0</td>\n",
       "      <td>-1.0</td>\n",
       "      <td>2.0</td>\n",
       "      <td>1.0</td>\n",
       "      <td>United Arab Emirates</td>\n",
       "      <td>2020-02-20</td>\n",
       "      <td>-2.0</td>\n",
       "      <td>1.0</td>\n",
       "      <td>6.0</td>\n",
       "      <td>1.0</td>\n",
       "      <td>1.0</td>\n",
       "      <td>1.0</td>\n",
       "    </tr>\n",
       "  </tbody>\n",
       "</table>\n",
       "</div>"
      ],
      "text/plain": [
       "   retail_and_recreation_percent_change_from_baseline_t_p1  \\\n",
       "1                                                0.0         \n",
       "2                                                1.0         \n",
       "3                                               -1.0         \n",
       "4                                               -2.0         \n",
       "5                                               -2.0         \n",
       "\n",
       "   grocery_and_pharmacy_percent_change_from_baseline_t_p1  \\\n",
       "1                                                4.0        \n",
       "2                                                4.0        \n",
       "3                                                1.0        \n",
       "4                                                1.0        \n",
       "5                                                0.0        \n",
       "\n",
       "   parks_percent_change_from_baseline_t_p1  \\\n",
       "1                                      5.0   \n",
       "2                                      4.0   \n",
       "3                                      5.0   \n",
       "4                                      5.0   \n",
       "5                                      4.0   \n",
       "\n",
       "   transit_stations_percent_change_from_baseline_t_p1  \\\n",
       "1                                                0.0    \n",
       "2                                                1.0    \n",
       "3                                                1.0    \n",
       "4                                                0.0    \n",
       "5                                               -1.0    \n",
       "\n",
       "   workplaces_percent_change_from_baseline_t_p1  \\\n",
       "1                                           2.0   \n",
       "2                                           2.0   \n",
       "3                                           2.0   \n",
       "4                                           2.0   \n",
       "5                                           2.0   \n",
       "\n",
       "   residential_percent_change_from_baseline_t_p1        country_region  \\\n",
       "1                                            1.0  United Arab Emirates   \n",
       "2                                            1.0  United Arab Emirates   \n",
       "3                                            1.0  United Arab Emirates   \n",
       "4                                            1.0  United Arab Emirates   \n",
       "5                                            1.0  United Arab Emirates   \n",
       "\n",
       "         date  retail_and_recreation_percent_change_from_baseline_t_0  \\\n",
       "1  2020-02-16                                                1.0        \n",
       "2  2020-02-17                                               -1.0        \n",
       "3  2020-02-18                                               -2.0        \n",
       "4  2020-02-19                                               -2.0        \n",
       "5  2020-02-20                                               -2.0        \n",
       "\n",
       "   grocery_and_pharmacy_percent_change_from_baseline_t_0  \\\n",
       "1                                                4.0       \n",
       "2                                                1.0       \n",
       "3                                                1.0       \n",
       "4                                                0.0       \n",
       "5                                                1.0       \n",
       "\n",
       "   parks_percent_change_from_baseline_t_0  \\\n",
       "1                                     4.0   \n",
       "2                                     5.0   \n",
       "3                                     5.0   \n",
       "4                                     4.0   \n",
       "5                                     6.0   \n",
       "\n",
       "   transit_stations_percent_change_from_baseline_t_0  \\\n",
       "1                                                1.0   \n",
       "2                                                1.0   \n",
       "3                                                0.0   \n",
       "4                                               -1.0   \n",
       "5                                                1.0   \n",
       "\n",
       "   workplaces_percent_change_from_baseline_t_0  \\\n",
       "1                                          2.0   \n",
       "2                                          2.0   \n",
       "3                                          2.0   \n",
       "4                                          2.0   \n",
       "5                                          1.0   \n",
       "\n",
       "   residential_percent_change_from_baseline_t_0  \n",
       "1                                           1.0  \n",
       "2                                           1.0  \n",
       "3                                           1.0  \n",
       "4                                           1.0  \n",
       "5                                           1.0  "
      ]
     },
     "execution_count": 34,
     "metadata": {},
     "output_type": "execute_result"
    }
   ],
   "source": [
    "cleaned_mob_data.head()"
   ]
  },
  {
   "cell_type": "code",
   "execution_count": 35,
   "metadata": {},
   "outputs": [
    {
     "data": {
      "text/html": [
       "<div>\n",
       "<style scoped>\n",
       "    .dataframe tbody tr th:only-of-type {\n",
       "        vertical-align: middle;\n",
       "    }\n",
       "\n",
       "    .dataframe tbody tr th {\n",
       "        vertical-align: top;\n",
       "    }\n",
       "\n",
       "    .dataframe thead th {\n",
       "        text-align: right;\n",
       "    }\n",
       "</style>\n",
       "<table border=\"1\" class=\"dataframe\">\n",
       "  <thead>\n",
       "    <tr style=\"text-align: right;\">\n",
       "      <th></th>\n",
       "      <th>index</th>\n",
       "      <th>retail_and_recreation_percent_change_from_baseline_t_p1</th>\n",
       "      <th>grocery_and_pharmacy_percent_change_from_baseline_t_p1</th>\n",
       "      <th>parks_percent_change_from_baseline_t_p1</th>\n",
       "      <th>transit_stations_percent_change_from_baseline_t_p1</th>\n",
       "      <th>workplaces_percent_change_from_baseline_t_p1</th>\n",
       "      <th>residential_percent_change_from_baseline_t_p1</th>\n",
       "      <th>country_region</th>\n",
       "      <th>date</th>\n",
       "      <th>retail_and_recreation_percent_change_from_baseline_t_0</th>\n",
       "      <th>grocery_and_pharmacy_percent_change_from_baseline_t_0</th>\n",
       "      <th>parks_percent_change_from_baseline_t_0</th>\n",
       "      <th>transit_stations_percent_change_from_baseline_t_0</th>\n",
       "      <th>workplaces_percent_change_from_baseline_t_0</th>\n",
       "      <th>residential_percent_change_from_baseline_t_0</th>\n",
       "    </tr>\n",
       "  </thead>\n",
       "  <tbody>\n",
       "    <tr>\n",
       "      <th>0</th>\n",
       "      <td>1</td>\n",
       "      <td>0.0</td>\n",
       "      <td>4.0</td>\n",
       "      <td>5.0</td>\n",
       "      <td>0.0</td>\n",
       "      <td>2.0</td>\n",
       "      <td>1.0</td>\n",
       "      <td>United Arab Emirates</td>\n",
       "      <td>2020-02-16</td>\n",
       "      <td>1.0</td>\n",
       "      <td>4.0</td>\n",
       "      <td>4.0</td>\n",
       "      <td>1.0</td>\n",
       "      <td>2.0</td>\n",
       "      <td>1.0</td>\n",
       "    </tr>\n",
       "    <tr>\n",
       "      <th>1</th>\n",
       "      <td>2</td>\n",
       "      <td>1.0</td>\n",
       "      <td>4.0</td>\n",
       "      <td>4.0</td>\n",
       "      <td>1.0</td>\n",
       "      <td>2.0</td>\n",
       "      <td>1.0</td>\n",
       "      <td>United Arab Emirates</td>\n",
       "      <td>2020-02-17</td>\n",
       "      <td>-1.0</td>\n",
       "      <td>1.0</td>\n",
       "      <td>5.0</td>\n",
       "      <td>1.0</td>\n",
       "      <td>2.0</td>\n",
       "      <td>1.0</td>\n",
       "    </tr>\n",
       "    <tr>\n",
       "      <th>2</th>\n",
       "      <td>3</td>\n",
       "      <td>-1.0</td>\n",
       "      <td>1.0</td>\n",
       "      <td>5.0</td>\n",
       "      <td>1.0</td>\n",
       "      <td>2.0</td>\n",
       "      <td>1.0</td>\n",
       "      <td>United Arab Emirates</td>\n",
       "      <td>2020-02-18</td>\n",
       "      <td>-2.0</td>\n",
       "      <td>1.0</td>\n",
       "      <td>5.0</td>\n",
       "      <td>0.0</td>\n",
       "      <td>2.0</td>\n",
       "      <td>1.0</td>\n",
       "    </tr>\n",
       "    <tr>\n",
       "      <th>3</th>\n",
       "      <td>4</td>\n",
       "      <td>-2.0</td>\n",
       "      <td>1.0</td>\n",
       "      <td>5.0</td>\n",
       "      <td>0.0</td>\n",
       "      <td>2.0</td>\n",
       "      <td>1.0</td>\n",
       "      <td>United Arab Emirates</td>\n",
       "      <td>2020-02-19</td>\n",
       "      <td>-2.0</td>\n",
       "      <td>0.0</td>\n",
       "      <td>4.0</td>\n",
       "      <td>-1.0</td>\n",
       "      <td>2.0</td>\n",
       "      <td>1.0</td>\n",
       "    </tr>\n",
       "    <tr>\n",
       "      <th>4</th>\n",
       "      <td>5</td>\n",
       "      <td>-2.0</td>\n",
       "      <td>0.0</td>\n",
       "      <td>4.0</td>\n",
       "      <td>-1.0</td>\n",
       "      <td>2.0</td>\n",
       "      <td>1.0</td>\n",
       "      <td>United Arab Emirates</td>\n",
       "      <td>2020-02-20</td>\n",
       "      <td>-2.0</td>\n",
       "      <td>1.0</td>\n",
       "      <td>6.0</td>\n",
       "      <td>1.0</td>\n",
       "      <td>1.0</td>\n",
       "      <td>1.0</td>\n",
       "    </tr>\n",
       "    <tr>\n",
       "      <th>...</th>\n",
       "      <td>...</td>\n",
       "      <td>...</td>\n",
       "      <td>...</td>\n",
       "      <td>...</td>\n",
       "      <td>...</td>\n",
       "      <td>...</td>\n",
       "      <td>...</td>\n",
       "      <td>...</td>\n",
       "      <td>...</td>\n",
       "      <td>...</td>\n",
       "      <td>...</td>\n",
       "      <td>...</td>\n",
       "      <td>...</td>\n",
       "      <td>...</td>\n",
       "      <td>...</td>\n",
       "    </tr>\n",
       "    <tr>\n",
       "      <th>54479</th>\n",
       "      <td>57148</td>\n",
       "      <td>14.0</td>\n",
       "      <td>36.0</td>\n",
       "      <td>23.0</td>\n",
       "      <td>15.0</td>\n",
       "      <td>8.0</td>\n",
       "      <td>0.0</td>\n",
       "      <td>Zimbabwe</td>\n",
       "      <td>2021-04-10</td>\n",
       "      <td>16.0</td>\n",
       "      <td>41.0</td>\n",
       "      <td>26.0</td>\n",
       "      <td>21.0</td>\n",
       "      <td>17.0</td>\n",
       "      <td>-3.0</td>\n",
       "    </tr>\n",
       "    <tr>\n",
       "      <th>54480</th>\n",
       "      <td>57149</td>\n",
       "      <td>16.0</td>\n",
       "      <td>41.0</td>\n",
       "      <td>26.0</td>\n",
       "      <td>21.0</td>\n",
       "      <td>17.0</td>\n",
       "      <td>-3.0</td>\n",
       "      <td>Zimbabwe</td>\n",
       "      <td>2021-04-11</td>\n",
       "      <td>15.0</td>\n",
       "      <td>42.0</td>\n",
       "      <td>32.0</td>\n",
       "      <td>17.0</td>\n",
       "      <td>17.0</td>\n",
       "      <td>0.0</td>\n",
       "    </tr>\n",
       "    <tr>\n",
       "      <th>54481</th>\n",
       "      <td>57150</td>\n",
       "      <td>15.0</td>\n",
       "      <td>42.0</td>\n",
       "      <td>32.0</td>\n",
       "      <td>17.0</td>\n",
       "      <td>17.0</td>\n",
       "      <td>0.0</td>\n",
       "      <td>Zimbabwe</td>\n",
       "      <td>2021-04-12</td>\n",
       "      <td>12.0</td>\n",
       "      <td>32.0</td>\n",
       "      <td>27.0</td>\n",
       "      <td>20.0</td>\n",
       "      <td>10.0</td>\n",
       "      <td>1.0</td>\n",
       "    </tr>\n",
       "    <tr>\n",
       "      <th>54482</th>\n",
       "      <td>57151</td>\n",
       "      <td>12.0</td>\n",
       "      <td>32.0</td>\n",
       "      <td>27.0</td>\n",
       "      <td>20.0</td>\n",
       "      <td>10.0</td>\n",
       "      <td>1.0</td>\n",
       "      <td>Zimbabwe</td>\n",
       "      <td>2021-04-13</td>\n",
       "      <td>13.0</td>\n",
       "      <td>36.0</td>\n",
       "      <td>21.0</td>\n",
       "      <td>15.0</td>\n",
       "      <td>8.0</td>\n",
       "      <td>1.0</td>\n",
       "    </tr>\n",
       "    <tr>\n",
       "      <th>54483</th>\n",
       "      <td>57152</td>\n",
       "      <td>13.0</td>\n",
       "      <td>36.0</td>\n",
       "      <td>21.0</td>\n",
       "      <td>15.0</td>\n",
       "      <td>8.0</td>\n",
       "      <td>1.0</td>\n",
       "      <td>Zimbabwe</td>\n",
       "      <td>2021-04-14</td>\n",
       "      <td>13.0</td>\n",
       "      <td>37.0</td>\n",
       "      <td>19.0</td>\n",
       "      <td>18.0</td>\n",
       "      <td>7.0</td>\n",
       "      <td>1.0</td>\n",
       "    </tr>\n",
       "  </tbody>\n",
       "</table>\n",
       "<p>54484 rows × 15 columns</p>\n",
       "</div>"
      ],
      "text/plain": [
       "       index  retail_and_recreation_percent_change_from_baseline_t_p1  \\\n",
       "0          1                                                0.0         \n",
       "1          2                                                1.0         \n",
       "2          3                                               -1.0         \n",
       "3          4                                               -2.0         \n",
       "4          5                                               -2.0         \n",
       "...      ...                                                ...         \n",
       "54479  57148                                               14.0         \n",
       "54480  57149                                               16.0         \n",
       "54481  57150                                               15.0         \n",
       "54482  57151                                               12.0         \n",
       "54483  57152                                               13.0         \n",
       "\n",
       "       grocery_and_pharmacy_percent_change_from_baseline_t_p1  \\\n",
       "0                                                    4.0        \n",
       "1                                                    4.0        \n",
       "2                                                    1.0        \n",
       "3                                                    1.0        \n",
       "4                                                    0.0        \n",
       "...                                                  ...        \n",
       "54479                                               36.0        \n",
       "54480                                               41.0        \n",
       "54481                                               42.0        \n",
       "54482                                               32.0        \n",
       "54483                                               36.0        \n",
       "\n",
       "       parks_percent_change_from_baseline_t_p1  \\\n",
       "0                                          5.0   \n",
       "1                                          4.0   \n",
       "2                                          5.0   \n",
       "3                                          5.0   \n",
       "4                                          4.0   \n",
       "...                                        ...   \n",
       "54479                                     23.0   \n",
       "54480                                     26.0   \n",
       "54481                                     32.0   \n",
       "54482                                     27.0   \n",
       "54483                                     21.0   \n",
       "\n",
       "       transit_stations_percent_change_from_baseline_t_p1  \\\n",
       "0                                                    0.0    \n",
       "1                                                    1.0    \n",
       "2                                                    1.0    \n",
       "3                                                    0.0    \n",
       "4                                                   -1.0    \n",
       "...                                                  ...    \n",
       "54479                                               15.0    \n",
       "54480                                               21.0    \n",
       "54481                                               17.0    \n",
       "54482                                               20.0    \n",
       "54483                                               15.0    \n",
       "\n",
       "       workplaces_percent_change_from_baseline_t_p1  \\\n",
       "0                                               2.0   \n",
       "1                                               2.0   \n",
       "2                                               2.0   \n",
       "3                                               2.0   \n",
       "4                                               2.0   \n",
       "...                                             ...   \n",
       "54479                                           8.0   \n",
       "54480                                          17.0   \n",
       "54481                                          17.0   \n",
       "54482                                          10.0   \n",
       "54483                                           8.0   \n",
       "\n",
       "       residential_percent_change_from_baseline_t_p1        country_region  \\\n",
       "0                                                1.0  United Arab Emirates   \n",
       "1                                                1.0  United Arab Emirates   \n",
       "2                                                1.0  United Arab Emirates   \n",
       "3                                                1.0  United Arab Emirates   \n",
       "4                                                1.0  United Arab Emirates   \n",
       "...                                              ...                   ...   \n",
       "54479                                            0.0              Zimbabwe   \n",
       "54480                                           -3.0              Zimbabwe   \n",
       "54481                                            0.0              Zimbabwe   \n",
       "54482                                            1.0              Zimbabwe   \n",
       "54483                                            1.0              Zimbabwe   \n",
       "\n",
       "             date  retail_and_recreation_percent_change_from_baseline_t_0  \\\n",
       "0      2020-02-16                                                1.0        \n",
       "1      2020-02-17                                               -1.0        \n",
       "2      2020-02-18                                               -2.0        \n",
       "3      2020-02-19                                               -2.0        \n",
       "4      2020-02-20                                               -2.0        \n",
       "...           ...                                                ...        \n",
       "54479  2021-04-10                                               16.0        \n",
       "54480  2021-04-11                                               15.0        \n",
       "54481  2021-04-12                                               12.0        \n",
       "54482  2021-04-13                                               13.0        \n",
       "54483  2021-04-14                                               13.0        \n",
       "\n",
       "       grocery_and_pharmacy_percent_change_from_baseline_t_0  \\\n",
       "0                                                    4.0       \n",
       "1                                                    1.0       \n",
       "2                                                    1.0       \n",
       "3                                                    0.0       \n",
       "4                                                    1.0       \n",
       "...                                                  ...       \n",
       "54479                                               41.0       \n",
       "54480                                               42.0       \n",
       "54481                                               32.0       \n",
       "54482                                               36.0       \n",
       "54483                                               37.0       \n",
       "\n",
       "       parks_percent_change_from_baseline_t_0  \\\n",
       "0                                         4.0   \n",
       "1                                         5.0   \n",
       "2                                         5.0   \n",
       "3                                         4.0   \n",
       "4                                         6.0   \n",
       "...                                       ...   \n",
       "54479                                    26.0   \n",
       "54480                                    32.0   \n",
       "54481                                    27.0   \n",
       "54482                                    21.0   \n",
       "54483                                    19.0   \n",
       "\n",
       "       transit_stations_percent_change_from_baseline_t_0  \\\n",
       "0                                                    1.0   \n",
       "1                                                    1.0   \n",
       "2                                                    0.0   \n",
       "3                                                   -1.0   \n",
       "4                                                    1.0   \n",
       "...                                                  ...   \n",
       "54479                                               21.0   \n",
       "54480                                               17.0   \n",
       "54481                                               20.0   \n",
       "54482                                               15.0   \n",
       "54483                                               18.0   \n",
       "\n",
       "       workplaces_percent_change_from_baseline_t_0  \\\n",
       "0                                              2.0   \n",
       "1                                              2.0   \n",
       "2                                              2.0   \n",
       "3                                              2.0   \n",
       "4                                              1.0   \n",
       "...                                            ...   \n",
       "54479                                         17.0   \n",
       "54480                                         17.0   \n",
       "54481                                         10.0   \n",
       "54482                                          8.0   \n",
       "54483                                          7.0   \n",
       "\n",
       "       residential_percent_change_from_baseline_t_0  \n",
       "0                                               1.0  \n",
       "1                                               1.0  \n",
       "2                                               1.0  \n",
       "3                                               1.0  \n",
       "4                                               1.0  \n",
       "...                                             ...  \n",
       "54479                                          -3.0  \n",
       "54480                                           0.0  \n",
       "54481                                           1.0  \n",
       "54482                                           1.0  \n",
       "54483                                           1.0  \n",
       "\n",
       "[54484 rows x 15 columns]"
      ]
     },
     "execution_count": 35,
     "metadata": {},
     "output_type": "execute_result"
    }
   ],
   "source": [
    "cleaned_mob_data.reset_index()"
   ]
  },
  {
   "cell_type": "code",
   "execution_count": null,
   "metadata": {},
   "outputs": [],
   "source": []
  },
  {
   "cell_type": "code",
   "execution_count": 36,
   "metadata": {},
   "outputs": [],
   "source": [
    "#Read second data set"
   ]
  },
  {
   "cell_type": "code",
   "execution_count": null,
   "metadata": {},
   "outputs": [],
   "source": []
  },
  {
   "cell_type": "code",
   "execution_count": 37,
   "metadata": {},
   "outputs": [],
   "source": [
    "#Coronavirus Source Data\n",
    "#Available from https://covid.ourworldindata.org/data/owid-covid-data.csv\n",
    "ow_covid_df = pd.read_csv('owid-covid-data-18042021.csv',encoding='latin1')"
   ]
  },
  {
   "cell_type": "code",
   "execution_count": 38,
   "metadata": {},
   "outputs": [],
   "source": [
    "#This step is to match the column name with the mobility data frame\n",
    "ow_covid_df.rename(columns = {'location':'country_region'}, inplace = True) "
   ]
  },
  {
   "cell_type": "code",
   "execution_count": 39,
   "metadata": {},
   "outputs": [
    {
     "data": {
      "text/plain": [
       "Index(['iso_code', 'continent', 'country_region', 'date', 'total_cases',\n",
       "       'new_cases', 'new_cases_smoothed', 'total_deaths', 'new_deaths',\n",
       "       'new_deaths_smoothed', 'total_cases_per_million',\n",
       "       'new_cases_per_million', 'new_cases_smoothed_per_million',\n",
       "       'total_deaths_per_million', 'new_deaths_per_million',\n",
       "       'new_deaths_smoothed_per_million', 'reproduction_rate', 'icu_patients',\n",
       "       'icu_patients_per_million', 'hosp_patients',\n",
       "       'hosp_patients_per_million', 'weekly_icu_admissions',\n",
       "       'weekly_icu_admissions_per_million', 'weekly_hosp_admissions',\n",
       "       'weekly_hosp_admissions_per_million', 'new_tests', 'total_tests',\n",
       "       'total_tests_per_thousand', 'new_tests_per_thousand',\n",
       "       'new_tests_smoothed', 'new_tests_smoothed_per_thousand',\n",
       "       'positive_rate', 'tests_per_case', 'tests_units', 'total_vaccinations',\n",
       "       'people_vaccinated', 'people_fully_vaccinated', 'new_vaccinations',\n",
       "       'new_vaccinations_smoothed', 'total_vaccinations_per_hundred',\n",
       "       'people_vaccinated_per_hundred', 'people_fully_vaccinated_per_hundred',\n",
       "       'new_vaccinations_smoothed_per_million', 'stringency_index',\n",
       "       'population', 'population_density', 'median_age', 'aged_65_older',\n",
       "       'aged_70_older', 'gdp_per_capita', 'extreme_poverty',\n",
       "       'cardiovasc_death_rate', 'diabetes_prevalence', 'female_smokers',\n",
       "       'male_smokers', 'handwashing_facilities', 'hospital_beds_per_thousand',\n",
       "       'life_expectancy', 'human_development_index'],\n",
       "      dtype='object')"
      ]
     },
     "execution_count": 39,
     "metadata": {},
     "output_type": "execute_result"
    }
   ],
   "source": [
    "ow_covid_df.columns"
   ]
  },
  {
   "cell_type": "code",
   "execution_count": 40,
   "metadata": {},
   "outputs": [
    {
     "data": {
      "text/plain": [
       "iso_code                                  object\n",
       "continent                                 object\n",
       "country_region                            object\n",
       "date                                      object\n",
       "total_cases                              float64\n",
       "new_cases                                float64\n",
       "new_cases_smoothed                       float64\n",
       "total_deaths                             float64\n",
       "new_deaths                               float64\n",
       "new_deaths_smoothed                      float64\n",
       "total_cases_per_million                  float64\n",
       "new_cases_per_million                    float64\n",
       "new_cases_smoothed_per_million           float64\n",
       "total_deaths_per_million                 float64\n",
       "new_deaths_per_million                   float64\n",
       "new_deaths_smoothed_per_million          float64\n",
       "reproduction_rate                        float64\n",
       "icu_patients                             float64\n",
       "icu_patients_per_million                 float64\n",
       "hosp_patients                            float64\n",
       "hosp_patients_per_million                float64\n",
       "weekly_icu_admissions                    float64\n",
       "weekly_icu_admissions_per_million        float64\n",
       "weekly_hosp_admissions                   float64\n",
       "weekly_hosp_admissions_per_million       float64\n",
       "new_tests                                float64\n",
       "total_tests                              float64\n",
       "total_tests_per_thousand                 float64\n",
       "new_tests_per_thousand                   float64\n",
       "new_tests_smoothed                       float64\n",
       "new_tests_smoothed_per_thousand          float64\n",
       "positive_rate                            float64\n",
       "tests_per_case                           float64\n",
       "tests_units                               object\n",
       "total_vaccinations                       float64\n",
       "people_vaccinated                        float64\n",
       "people_fully_vaccinated                  float64\n",
       "new_vaccinations                         float64\n",
       "new_vaccinations_smoothed                float64\n",
       "total_vaccinations_per_hundred           float64\n",
       "people_vaccinated_per_hundred            float64\n",
       "people_fully_vaccinated_per_hundred      float64\n",
       "new_vaccinations_smoothed_per_million    float64\n",
       "stringency_index                         float64\n",
       "population                               float64\n",
       "population_density                       float64\n",
       "median_age                               float64\n",
       "aged_65_older                            float64\n",
       "aged_70_older                            float64\n",
       "gdp_per_capita                           float64\n",
       "extreme_poverty                          float64\n",
       "cardiovasc_death_rate                    float64\n",
       "diabetes_prevalence                      float64\n",
       "female_smokers                           float64\n",
       "male_smokers                             float64\n",
       "handwashing_facilities                   float64\n",
       "hospital_beds_per_thousand               float64\n",
       "life_expectancy                          float64\n",
       "human_development_index                  float64\n",
       "dtype: object"
      ]
     },
     "execution_count": 40,
     "metadata": {},
     "output_type": "execute_result"
    }
   ],
   "source": [
    "ow_covid_df.dtypes"
   ]
  },
  {
   "cell_type": "code",
   "execution_count": 41,
   "metadata": {},
   "outputs": [
    {
     "data": {
      "text/plain": [
       "215"
      ]
     },
     "execution_count": 41,
     "metadata": {},
     "output_type": "execute_result"
    }
   ],
   "source": [
    "len(ow_covid_df.country_region.unique())"
   ]
  },
  {
   "cell_type": "code",
   "execution_count": 42,
   "metadata": {},
   "outputs": [
    {
     "data": {
      "text/plain": [
       "(82286, 59)"
      ]
     },
     "execution_count": 42,
     "metadata": {},
     "output_type": "execute_result"
    }
   ],
   "source": [
    "ow_covid_df.shape"
   ]
  },
  {
   "cell_type": "code",
   "execution_count": 43,
   "metadata": {},
   "outputs": [
    {
     "data": {
      "text/plain": [
       "(54484, 14)"
      ]
     },
     "execution_count": 43,
     "metadata": {},
     "output_type": "execute_result"
    }
   ],
   "source": [
    "cleaned_mob_data.shape"
   ]
  },
  {
   "cell_type": "code",
   "execution_count": 44,
   "metadata": {},
   "outputs": [],
   "source": [
    "#merge the two data frame based on country_region and date columns\n",
    "df = cleaned_mob_data.merge(ow_covid_df, on=['country_region','date'], how='left')"
   ]
  },
  {
   "cell_type": "code",
   "execution_count": 45,
   "metadata": {},
   "outputs": [
    {
     "data": {
      "text/plain": [
       "Index(['retail_and_recreation_percent_change_from_baseline_t_p1',\n",
       "       'grocery_and_pharmacy_percent_change_from_baseline_t_p1',\n",
       "       'parks_percent_change_from_baseline_t_p1',\n",
       "       'transit_stations_percent_change_from_baseline_t_p1',\n",
       "       'workplaces_percent_change_from_baseline_t_p1',\n",
       "       'residential_percent_change_from_baseline_t_p1', 'country_region',\n",
       "       'date', 'retail_and_recreation_percent_change_from_baseline_t_0',\n",
       "       'grocery_and_pharmacy_percent_change_from_baseline_t_0',\n",
       "       'parks_percent_change_from_baseline_t_0',\n",
       "       'transit_stations_percent_change_from_baseline_t_0',\n",
       "       'workplaces_percent_change_from_baseline_t_0',\n",
       "       'residential_percent_change_from_baseline_t_0', 'iso_code', 'continent',\n",
       "       'total_cases', 'new_cases', 'new_cases_smoothed', 'total_deaths',\n",
       "       'new_deaths', 'new_deaths_smoothed', 'total_cases_per_million',\n",
       "       'new_cases_per_million', 'new_cases_smoothed_per_million',\n",
       "       'total_deaths_per_million', 'new_deaths_per_million',\n",
       "       'new_deaths_smoothed_per_million', 'reproduction_rate', 'icu_patients',\n",
       "       'icu_patients_per_million', 'hosp_patients',\n",
       "       'hosp_patients_per_million', 'weekly_icu_admissions',\n",
       "       'weekly_icu_admissions_per_million', 'weekly_hosp_admissions',\n",
       "       'weekly_hosp_admissions_per_million', 'new_tests', 'total_tests',\n",
       "       'total_tests_per_thousand', 'new_tests_per_thousand',\n",
       "       'new_tests_smoothed', 'new_tests_smoothed_per_thousand',\n",
       "       'positive_rate', 'tests_per_case', 'tests_units', 'total_vaccinations',\n",
       "       'people_vaccinated', 'people_fully_vaccinated', 'new_vaccinations',\n",
       "       'new_vaccinations_smoothed', 'total_vaccinations_per_hundred',\n",
       "       'people_vaccinated_per_hundred', 'people_fully_vaccinated_per_hundred',\n",
       "       'new_vaccinations_smoothed_per_million', 'stringency_index',\n",
       "       'population', 'population_density', 'median_age', 'aged_65_older',\n",
       "       'aged_70_older', 'gdp_per_capita', 'extreme_poverty',\n",
       "       'cardiovasc_death_rate', 'diabetes_prevalence', 'female_smokers',\n",
       "       'male_smokers', 'handwashing_facilities', 'hospital_beds_per_thousand',\n",
       "       'life_expectancy', 'human_development_index'],\n",
       "      dtype='object')"
      ]
     },
     "execution_count": 45,
     "metadata": {},
     "output_type": "execute_result"
    }
   ],
   "source": [
    "df.columns"
   ]
  },
  {
   "cell_type": "code",
   "execution_count": 46,
   "metadata": {},
   "outputs": [
    {
     "data": {
      "text/plain": [
       "(54484, 71)"
      ]
     },
     "execution_count": 46,
     "metadata": {},
     "output_type": "execute_result"
    }
   ],
   "source": [
    "df.shape"
   ]
  },
  {
   "cell_type": "code",
   "execution_count": 47,
   "metadata": {},
   "outputs": [
    {
     "data": {
      "text/plain": [
       "131"
      ]
     },
     "execution_count": 47,
     "metadata": {},
     "output_type": "execute_result"
    }
   ],
   "source": [
    "len(df.country_region.unique())"
   ]
  },
  {
   "cell_type": "code",
   "execution_count": 48,
   "metadata": {},
   "outputs": [
    {
     "data": {
      "text/html": [
       "<div>\n",
       "<style scoped>\n",
       "    .dataframe tbody tr th:only-of-type {\n",
       "        vertical-align: middle;\n",
       "    }\n",
       "\n",
       "    .dataframe tbody tr th {\n",
       "        vertical-align: top;\n",
       "    }\n",
       "\n",
       "    .dataframe thead th {\n",
       "        text-align: right;\n",
       "    }\n",
       "</style>\n",
       "<table border=\"1\" class=\"dataframe\">\n",
       "  <thead>\n",
       "    <tr style=\"text-align: right;\">\n",
       "      <th></th>\n",
       "      <th>retail_and_recreation_percent_change_from_baseline_t_p1</th>\n",
       "      <th>grocery_and_pharmacy_percent_change_from_baseline_t_p1</th>\n",
       "      <th>parks_percent_change_from_baseline_t_p1</th>\n",
       "      <th>transit_stations_percent_change_from_baseline_t_p1</th>\n",
       "      <th>workplaces_percent_change_from_baseline_t_p1</th>\n",
       "      <th>residential_percent_change_from_baseline_t_p1</th>\n",
       "      <th>country_region</th>\n",
       "      <th>date</th>\n",
       "      <th>retail_and_recreation_percent_change_from_baseline_t_0</th>\n",
       "      <th>grocery_and_pharmacy_percent_change_from_baseline_t_0</th>\n",
       "      <th>...</th>\n",
       "      <th>gdp_per_capita</th>\n",
       "      <th>extreme_poverty</th>\n",
       "      <th>cardiovasc_death_rate</th>\n",
       "      <th>diabetes_prevalence</th>\n",
       "      <th>female_smokers</th>\n",
       "      <th>male_smokers</th>\n",
       "      <th>handwashing_facilities</th>\n",
       "      <th>hospital_beds_per_thousand</th>\n",
       "      <th>life_expectancy</th>\n",
       "      <th>human_development_index</th>\n",
       "    </tr>\n",
       "  </thead>\n",
       "  <tbody>\n",
       "    <tr>\n",
       "      <th>0</th>\n",
       "      <td>0.0</td>\n",
       "      <td>4.0</td>\n",
       "      <td>5.0</td>\n",
       "      <td>0.0</td>\n",
       "      <td>2.0</td>\n",
       "      <td>1.0</td>\n",
       "      <td>United Arab Emirates</td>\n",
       "      <td>2020-02-16</td>\n",
       "      <td>1.0</td>\n",
       "      <td>4.0</td>\n",
       "      <td>...</td>\n",
       "      <td>67293.483</td>\n",
       "      <td>NaN</td>\n",
       "      <td>317.84</td>\n",
       "      <td>17.26</td>\n",
       "      <td>1.2</td>\n",
       "      <td>37.4</td>\n",
       "      <td>NaN</td>\n",
       "      <td>1.2</td>\n",
       "      <td>77.97</td>\n",
       "      <td>0.89</td>\n",
       "    </tr>\n",
       "    <tr>\n",
       "      <th>1</th>\n",
       "      <td>1.0</td>\n",
       "      <td>4.0</td>\n",
       "      <td>4.0</td>\n",
       "      <td>1.0</td>\n",
       "      <td>2.0</td>\n",
       "      <td>1.0</td>\n",
       "      <td>United Arab Emirates</td>\n",
       "      <td>2020-02-17</td>\n",
       "      <td>-1.0</td>\n",
       "      <td>1.0</td>\n",
       "      <td>...</td>\n",
       "      <td>67293.483</td>\n",
       "      <td>NaN</td>\n",
       "      <td>317.84</td>\n",
       "      <td>17.26</td>\n",
       "      <td>1.2</td>\n",
       "      <td>37.4</td>\n",
       "      <td>NaN</td>\n",
       "      <td>1.2</td>\n",
       "      <td>77.97</td>\n",
       "      <td>0.89</td>\n",
       "    </tr>\n",
       "    <tr>\n",
       "      <th>2</th>\n",
       "      <td>-1.0</td>\n",
       "      <td>1.0</td>\n",
       "      <td>5.0</td>\n",
       "      <td>1.0</td>\n",
       "      <td>2.0</td>\n",
       "      <td>1.0</td>\n",
       "      <td>United Arab Emirates</td>\n",
       "      <td>2020-02-18</td>\n",
       "      <td>-2.0</td>\n",
       "      <td>1.0</td>\n",
       "      <td>...</td>\n",
       "      <td>67293.483</td>\n",
       "      <td>NaN</td>\n",
       "      <td>317.84</td>\n",
       "      <td>17.26</td>\n",
       "      <td>1.2</td>\n",
       "      <td>37.4</td>\n",
       "      <td>NaN</td>\n",
       "      <td>1.2</td>\n",
       "      <td>77.97</td>\n",
       "      <td>0.89</td>\n",
       "    </tr>\n",
       "    <tr>\n",
       "      <th>3</th>\n",
       "      <td>-2.0</td>\n",
       "      <td>1.0</td>\n",
       "      <td>5.0</td>\n",
       "      <td>0.0</td>\n",
       "      <td>2.0</td>\n",
       "      <td>1.0</td>\n",
       "      <td>United Arab Emirates</td>\n",
       "      <td>2020-02-19</td>\n",
       "      <td>-2.0</td>\n",
       "      <td>0.0</td>\n",
       "      <td>...</td>\n",
       "      <td>67293.483</td>\n",
       "      <td>NaN</td>\n",
       "      <td>317.84</td>\n",
       "      <td>17.26</td>\n",
       "      <td>1.2</td>\n",
       "      <td>37.4</td>\n",
       "      <td>NaN</td>\n",
       "      <td>1.2</td>\n",
       "      <td>77.97</td>\n",
       "      <td>0.89</td>\n",
       "    </tr>\n",
       "    <tr>\n",
       "      <th>4</th>\n",
       "      <td>-2.0</td>\n",
       "      <td>0.0</td>\n",
       "      <td>4.0</td>\n",
       "      <td>-1.0</td>\n",
       "      <td>2.0</td>\n",
       "      <td>1.0</td>\n",
       "      <td>United Arab Emirates</td>\n",
       "      <td>2020-02-20</td>\n",
       "      <td>-2.0</td>\n",
       "      <td>1.0</td>\n",
       "      <td>...</td>\n",
       "      <td>67293.483</td>\n",
       "      <td>NaN</td>\n",
       "      <td>317.84</td>\n",
       "      <td>17.26</td>\n",
       "      <td>1.2</td>\n",
       "      <td>37.4</td>\n",
       "      <td>NaN</td>\n",
       "      <td>1.2</td>\n",
       "      <td>77.97</td>\n",
       "      <td>0.89</td>\n",
       "    </tr>\n",
       "  </tbody>\n",
       "</table>\n",
       "<p>5 rows × 71 columns</p>\n",
       "</div>"
      ],
      "text/plain": [
       "   retail_and_recreation_percent_change_from_baseline_t_p1  \\\n",
       "0                                                0.0         \n",
       "1                                                1.0         \n",
       "2                                               -1.0         \n",
       "3                                               -2.0         \n",
       "4                                               -2.0         \n",
       "\n",
       "   grocery_and_pharmacy_percent_change_from_baseline_t_p1  \\\n",
       "0                                                4.0        \n",
       "1                                                4.0        \n",
       "2                                                1.0        \n",
       "3                                                1.0        \n",
       "4                                                0.0        \n",
       "\n",
       "   parks_percent_change_from_baseline_t_p1  \\\n",
       "0                                      5.0   \n",
       "1                                      4.0   \n",
       "2                                      5.0   \n",
       "3                                      5.0   \n",
       "4                                      4.0   \n",
       "\n",
       "   transit_stations_percent_change_from_baseline_t_p1  \\\n",
       "0                                                0.0    \n",
       "1                                                1.0    \n",
       "2                                                1.0    \n",
       "3                                                0.0    \n",
       "4                                               -1.0    \n",
       "\n",
       "   workplaces_percent_change_from_baseline_t_p1  \\\n",
       "0                                           2.0   \n",
       "1                                           2.0   \n",
       "2                                           2.0   \n",
       "3                                           2.0   \n",
       "4                                           2.0   \n",
       "\n",
       "   residential_percent_change_from_baseline_t_p1        country_region  \\\n",
       "0                                            1.0  United Arab Emirates   \n",
       "1                                            1.0  United Arab Emirates   \n",
       "2                                            1.0  United Arab Emirates   \n",
       "3                                            1.0  United Arab Emirates   \n",
       "4                                            1.0  United Arab Emirates   \n",
       "\n",
       "         date  retail_and_recreation_percent_change_from_baseline_t_0  \\\n",
       "0  2020-02-16                                                1.0        \n",
       "1  2020-02-17                                               -1.0        \n",
       "2  2020-02-18                                               -2.0        \n",
       "3  2020-02-19                                               -2.0        \n",
       "4  2020-02-20                                               -2.0        \n",
       "\n",
       "   grocery_and_pharmacy_percent_change_from_baseline_t_0  ...  gdp_per_capita  \\\n",
       "0                                                4.0      ...       67293.483   \n",
       "1                                                1.0      ...       67293.483   \n",
       "2                                                1.0      ...       67293.483   \n",
       "3                                                0.0      ...       67293.483   \n",
       "4                                                1.0      ...       67293.483   \n",
       "\n",
       "   extreme_poverty  cardiovasc_death_rate  diabetes_prevalence female_smokers  \\\n",
       "0              NaN                 317.84                17.26            1.2   \n",
       "1              NaN                 317.84                17.26            1.2   \n",
       "2              NaN                 317.84                17.26            1.2   \n",
       "3              NaN                 317.84                17.26            1.2   \n",
       "4              NaN                 317.84                17.26            1.2   \n",
       "\n",
       "  male_smokers  handwashing_facilities  hospital_beds_per_thousand  \\\n",
       "0         37.4                     NaN                         1.2   \n",
       "1         37.4                     NaN                         1.2   \n",
       "2         37.4                     NaN                         1.2   \n",
       "3         37.4                     NaN                         1.2   \n",
       "4         37.4                     NaN                         1.2   \n",
       "\n",
       "   life_expectancy  human_development_index  \n",
       "0            77.97                     0.89  \n",
       "1            77.97                     0.89  \n",
       "2            77.97                     0.89  \n",
       "3            77.97                     0.89  \n",
       "4            77.97                     0.89  \n",
       "\n",
       "[5 rows x 71 columns]"
      ]
     },
     "execution_count": 48,
     "metadata": {},
     "output_type": "execute_result"
    }
   ],
   "source": [
    "df.head()"
   ]
  },
  {
   "cell_type": "code",
   "execution_count": 49,
   "metadata": {},
   "outputs": [
    {
     "data": {
      "text/plain": [
       "retail_and_recreation_percent_change_from_baseline_t_p1    float64\n",
       "grocery_and_pharmacy_percent_change_from_baseline_t_p1     float64\n",
       "parks_percent_change_from_baseline_t_p1                    float64\n",
       "transit_stations_percent_change_from_baseline_t_p1         float64\n",
       "workplaces_percent_change_from_baseline_t_p1               float64\n",
       "                                                            ...   \n",
       "male_smokers                                               float64\n",
       "handwashing_facilities                                     float64\n",
       "hospital_beds_per_thousand                                 float64\n",
       "life_expectancy                                            float64\n",
       "human_development_index                                    float64\n",
       "Length: 71, dtype: object"
      ]
     },
     "execution_count": 49,
     "metadata": {},
     "output_type": "execute_result"
    }
   ],
   "source": [
    "df.dtypes"
   ]
  },
  {
   "cell_type": "code",
   "execution_count": 50,
   "metadata": {},
   "outputs": [],
   "source": [
    "#df.describe().T"
   ]
  },
  {
   "cell_type": "code",
   "execution_count": 51,
   "metadata": {},
   "outputs": [
    {
     "data": {
      "text/plain": [
       "retail_and_recreation_percent_change_from_baseline_t_p1        0\n",
       "grocery_and_pharmacy_percent_change_from_baseline_t_p1         0\n",
       "parks_percent_change_from_baseline_t_p1                        0\n",
       "transit_stations_percent_change_from_baseline_t_p1             0\n",
       "workplaces_percent_change_from_baseline_t_p1                   0\n",
       "                                                           ...  \n",
       "male_smokers                                               11687\n",
       "handwashing_facilities                                     32785\n",
       "hospital_beds_per_thousand                                  6666\n",
       "life_expectancy                                             4240\n",
       "human_development_index                                     4665\n",
       "Length: 71, dtype: int64"
      ]
     },
     "execution_count": 51,
     "metadata": {},
     "output_type": "execute_result"
    }
   ],
   "source": [
    "df.isnull().sum()"
   ]
  },
  {
   "cell_type": "code",
   "execution_count": 52,
   "metadata": {},
   "outputs": [
    {
     "data": {
      "text/plain": [
       "Index(['retail_and_recreation_percent_change_from_baseline_t_p1',\n",
       "       'grocery_and_pharmacy_percent_change_from_baseline_t_p1',\n",
       "       'parks_percent_change_from_baseline_t_p1',\n",
       "       'transit_stations_percent_change_from_baseline_t_p1',\n",
       "       'workplaces_percent_change_from_baseline_t_p1',\n",
       "       'residential_percent_change_from_baseline_t_p1', 'country_region',\n",
       "       'date', 'retail_and_recreation_percent_change_from_baseline_t_0',\n",
       "       'grocery_and_pharmacy_percent_change_from_baseline_t_0',\n",
       "       'parks_percent_change_from_baseline_t_0',\n",
       "       'transit_stations_percent_change_from_baseline_t_0',\n",
       "       'workplaces_percent_change_from_baseline_t_0',\n",
       "       'residential_percent_change_from_baseline_t_0', 'iso_code', 'continent',\n",
       "       'total_cases', 'new_cases', 'new_cases_smoothed', 'total_deaths',\n",
       "       'new_deaths', 'new_deaths_smoothed', 'total_cases_per_million',\n",
       "       'new_cases_per_million', 'new_cases_smoothed_per_million',\n",
       "       'total_deaths_per_million', 'new_deaths_per_million',\n",
       "       'new_deaths_smoothed_per_million', 'reproduction_rate', 'icu_patients',\n",
       "       'icu_patients_per_million', 'hosp_patients',\n",
       "       'hosp_patients_per_million', 'weekly_icu_admissions',\n",
       "       'weekly_icu_admissions_per_million', 'weekly_hosp_admissions',\n",
       "       'weekly_hosp_admissions_per_million', 'new_tests', 'total_tests',\n",
       "       'total_tests_per_thousand', 'new_tests_per_thousand',\n",
       "       'new_tests_smoothed', 'new_tests_smoothed_per_thousand',\n",
       "       'positive_rate', 'tests_per_case', 'tests_units', 'total_vaccinations',\n",
       "       'people_vaccinated', 'people_fully_vaccinated', 'new_vaccinations',\n",
       "       'new_vaccinations_smoothed', 'total_vaccinations_per_hundred',\n",
       "       'people_vaccinated_per_hundred', 'people_fully_vaccinated_per_hundred',\n",
       "       'new_vaccinations_smoothed_per_million', 'stringency_index',\n",
       "       'population', 'population_density', 'median_age', 'aged_65_older',\n",
       "       'aged_70_older', 'gdp_per_capita', 'extreme_poverty',\n",
       "       'cardiovasc_death_rate', 'diabetes_prevalence', 'female_smokers',\n",
       "       'male_smokers', 'handwashing_facilities', 'hospital_beds_per_thousand',\n",
       "       'life_expectancy', 'human_development_index'],\n",
       "      dtype='object')"
      ]
     },
     "execution_count": 52,
     "metadata": {},
     "output_type": "execute_result"
    }
   ],
   "source": [
    "df.columns"
   ]
  },
  {
   "cell_type": "code",
   "execution_count": 53,
   "metadata": {},
   "outputs": [
    {
     "data": {
      "text/plain": [
       "\"\\ndf_1 = df.drop(['country_region_code_t_0','country_region', 'date',\\n        \\n       'iso_code', 'continent','total_cases_per_million',\\n       'new_cases_per_million', 'new_cases_smoothed_per_million',\\n       'total_deaths_per_million', 'new_deaths_per_million',\\n       'new_deaths_smoothed_per_million', 'reproduction_rate', 'icu_patients',\\n       'icu_patients_per_million', 'hosp_patients',\\n       'hosp_patients_per_million', 'weekly_icu_admissions',\\n       'weekly_icu_admissions_per_million', 'weekly_hosp_admissions',\\n       'weekly_hosp_admissions_per_million', 'new_tests', 'total_tests',\\n       'total_tests_per_thousand', 'new_tests_per_thousand',\\n       'new_tests_smoothed', 'new_tests_smoothed_per_thousand',\\n       'tests_per_case', 'tests_units', 'total_vaccinations',\\n       'people_vaccinated', 'people_fully_vaccinated', 'new_vaccinations',\\n       'new_vaccinations_smoothed', 'total_vaccinations_per_hundred',\\n       'people_vaccinated_per_hundred', 'people_fully_vaccinated_per_hundred',\\n       'new_vaccinations_smoothed_per_million', 'stringency_index',\\n       'population', 'population_density', 'median_age', 'aged_65_older',\\n       'aged_70_older', 'gdp_per_capita', 'extreme_poverty',\\n       'cardiovasc_death_rate', 'diabetes_prevalence', 'female_smokers',\\n       'male_smokers', 'handwashing_facilities', 'hospital_beds_per_thousand',\\n       'life_expectancy', 'human_development_index',\\n             \\n       'total_cases','new_cases_smoothed', 'total_deaths', 'new_deaths',\\n       'new_deaths_smoothed', 'positive_rate'\\n               \\n               ],axis=1);\\n\""
      ]
     },
     "execution_count": 53,
     "metadata": {},
     "output_type": "execute_result"
    }
   ],
   "source": [
    "'''\n",
    "df_1 = df.drop(['country_region_code_t_0','country_region', 'date',\n",
    "        \n",
    "       'iso_code', 'continent','total_cases_per_million',\n",
    "       'new_cases_per_million', 'new_cases_smoothed_per_million',\n",
    "       'total_deaths_per_million', 'new_deaths_per_million',\n",
    "       'new_deaths_smoothed_per_million', 'reproduction_rate', 'icu_patients',\n",
    "       'icu_patients_per_million', 'hosp_patients',\n",
    "       'hosp_patients_per_million', 'weekly_icu_admissions',\n",
    "       'weekly_icu_admissions_per_million', 'weekly_hosp_admissions',\n",
    "       'weekly_hosp_admissions_per_million', 'new_tests', 'total_tests',\n",
    "       'total_tests_per_thousand', 'new_tests_per_thousand',\n",
    "       'new_tests_smoothed', 'new_tests_smoothed_per_thousand',\n",
    "       'tests_per_case', 'tests_units', 'total_vaccinations',\n",
    "       'people_vaccinated', 'people_fully_vaccinated', 'new_vaccinations',\n",
    "       'new_vaccinations_smoothed', 'total_vaccinations_per_hundred',\n",
    "       'people_vaccinated_per_hundred', 'people_fully_vaccinated_per_hundred',\n",
    "       'new_vaccinations_smoothed_per_million', 'stringency_index',\n",
    "       'population', 'population_density', 'median_age', 'aged_65_older',\n",
    "       'aged_70_older', 'gdp_per_capita', 'extreme_poverty',\n",
    "       'cardiovasc_death_rate', 'diabetes_prevalence', 'female_smokers',\n",
    "       'male_smokers', 'handwashing_facilities', 'hospital_beds_per_thousand',\n",
    "       'life_expectancy', 'human_development_index',\n",
    "             \n",
    "       'total_cases','new_cases_smoothed', 'total_deaths', 'new_deaths',\n",
    "       'new_deaths_smoothed', 'positive_rate'\n",
    "               \n",
    "               ],axis=1);\n",
    "'''"
   ]
  },
  {
   "cell_type": "code",
   "execution_count": 54,
   "metadata": {},
   "outputs": [],
   "source": [
    "df_1 = df.drop(['country_region', 'date',\n",
    "        \n",
    "       'iso_code', 'continent','total_cases_per_million',\n",
    "       'new_cases_per_million', 'new_cases_smoothed_per_million',\n",
    "       'total_deaths_per_million', 'new_deaths_per_million',\n",
    "       'new_deaths_smoothed_per_million', 'reproduction_rate', 'icu_patients',\n",
    "       'icu_patients_per_million', 'hosp_patients',\n",
    "       'hosp_patients_per_million', 'weekly_icu_admissions',\n",
    "       'weekly_icu_admissions_per_million', 'weekly_hosp_admissions',\n",
    "       'weekly_hosp_admissions_per_million', 'new_tests', 'total_tests',\n",
    "       'total_tests_per_thousand', 'new_tests_per_thousand',\n",
    "       'new_tests_smoothed', 'new_tests_smoothed_per_thousand',\n",
    "       'tests_per_case', 'tests_units', 'total_vaccinations',\n",
    "       'people_vaccinated', 'people_fully_vaccinated', 'new_vaccinations',\n",
    "       'new_vaccinations_smoothed', 'total_vaccinations_per_hundred',\n",
    "       'people_vaccinated_per_hundred', 'people_fully_vaccinated_per_hundred',\n",
    "       'new_vaccinations_smoothed_per_million', 'stringency_index',\n",
    "       'aged_70_older', 'gdp_per_capita', 'extreme_poverty',\n",
    "       'cardiovasc_death_rate', 'diabetes_prevalence', 'female_smokers',\n",
    "       'male_smokers', 'handwashing_facilities', 'hospital_beds_per_thousand',\n",
    "       'life_expectancy', 'human_development_index',\n",
    "             \n",
    "       'total_cases','new_cases_smoothed', 'total_deaths', 'new_deaths',\n",
    "       'new_deaths_smoothed', 'positive_rate','aged_65_older',  'population'                                            \n",
    "               \n",
    "               ],axis=1);"
   ]
  },
  {
   "cell_type": "code",
   "execution_count": 55,
   "metadata": {},
   "outputs": [
    {
     "data": {
      "text/plain": [
       "Index(['retail_and_recreation_percent_change_from_baseline_t_p1',\n",
       "       'grocery_and_pharmacy_percent_change_from_baseline_t_p1',\n",
       "       'parks_percent_change_from_baseline_t_p1',\n",
       "       'transit_stations_percent_change_from_baseline_t_p1',\n",
       "       'workplaces_percent_change_from_baseline_t_p1',\n",
       "       'residential_percent_change_from_baseline_t_p1',\n",
       "       'retail_and_recreation_percent_change_from_baseline_t_0',\n",
       "       'grocery_and_pharmacy_percent_change_from_baseline_t_0',\n",
       "       'parks_percent_change_from_baseline_t_0',\n",
       "       'transit_stations_percent_change_from_baseline_t_0',\n",
       "       'workplaces_percent_change_from_baseline_t_0',\n",
       "       'residential_percent_change_from_baseline_t_0', 'new_cases',\n",
       "       'population_density', 'median_age'],\n",
       "      dtype='object')"
      ]
     },
     "execution_count": 55,
     "metadata": {},
     "output_type": "execute_result"
    }
   ],
   "source": [
    "df_1.columns"
   ]
  },
  {
   "cell_type": "code",
   "execution_count": 56,
   "metadata": {},
   "outputs": [
    {
     "data": {
      "text/plain": [
       "retail_and_recreation_percent_change_from_baseline_t_p1    float64\n",
       "grocery_and_pharmacy_percent_change_from_baseline_t_p1     float64\n",
       "parks_percent_change_from_baseline_t_p1                    float64\n",
       "transit_stations_percent_change_from_baseline_t_p1         float64\n",
       "workplaces_percent_change_from_baseline_t_p1               float64\n",
       "residential_percent_change_from_baseline_t_p1              float64\n",
       "retail_and_recreation_percent_change_from_baseline_t_0     float64\n",
       "grocery_and_pharmacy_percent_change_from_baseline_t_0      float64\n",
       "parks_percent_change_from_baseline_t_0                     float64\n",
       "transit_stations_percent_change_from_baseline_t_0          float64\n",
       "workplaces_percent_change_from_baseline_t_0                float64\n",
       "residential_percent_change_from_baseline_t_0               float64\n",
       "new_cases                                                  float64\n",
       "population_density                                         float64\n",
       "median_age                                                 float64\n",
       "dtype: object"
      ]
     },
     "execution_count": 56,
     "metadata": {},
     "output_type": "execute_result"
    }
   ],
   "source": [
    "df_1.dtypes"
   ]
  },
  {
   "cell_type": "code",
   "execution_count": 57,
   "metadata": {},
   "outputs": [
    {
     "data": {
      "text/plain": [
       "(54484, 15)"
      ]
     },
     "execution_count": 57,
     "metadata": {},
     "output_type": "execute_result"
    }
   ],
   "source": [
    "df_1.shape"
   ]
  },
  {
   "cell_type": "code",
   "execution_count": 58,
   "metadata": {},
   "outputs": [
    {
     "data": {
      "text/plain": [
       "retail_and_recreation_percent_change_from_baseline_t_p1       0\n",
       "grocery_and_pharmacy_percent_change_from_baseline_t_p1        0\n",
       "parks_percent_change_from_baseline_t_p1                       0\n",
       "transit_stations_percent_change_from_baseline_t_p1            0\n",
       "workplaces_percent_change_from_baseline_t_p1                  0\n",
       "residential_percent_change_from_baseline_t_p1                 0\n",
       "retail_and_recreation_percent_change_from_baseline_t_0        0\n",
       "grocery_and_pharmacy_percent_change_from_baseline_t_0         0\n",
       "parks_percent_change_from_baseline_t_0                        0\n",
       "transit_stations_percent_change_from_baseline_t_0             0\n",
       "workplaces_percent_change_from_baseline_t_0                   0\n",
       "residential_percent_change_from_baseline_t_0                  0\n",
       "new_cases                                                  4623\n",
       "population_density                                         4665\n",
       "median_age                                                 4240\n",
       "dtype: int64"
      ]
     },
     "execution_count": 58,
     "metadata": {},
     "output_type": "execute_result"
    }
   ],
   "source": [
    "df_1.isnull().sum()"
   ]
  },
  {
   "cell_type": "code",
   "execution_count": 59,
   "metadata": {},
   "outputs": [],
   "source": [
    "df_1.dropna(inplace=True)"
   ]
  },
  {
   "cell_type": "code",
   "execution_count": 60,
   "metadata": {},
   "outputs": [
    {
     "data": {
      "text/plain": [
       "Index(['retail_and_recreation_percent_change_from_baseline_t_p1',\n",
       "       'grocery_and_pharmacy_percent_change_from_baseline_t_p1',\n",
       "       'parks_percent_change_from_baseline_t_p1',\n",
       "       'transit_stations_percent_change_from_baseline_t_p1',\n",
       "       'workplaces_percent_change_from_baseline_t_p1',\n",
       "       'residential_percent_change_from_baseline_t_p1',\n",
       "       'retail_and_recreation_percent_change_from_baseline_t_0',\n",
       "       'grocery_and_pharmacy_percent_change_from_baseline_t_0',\n",
       "       'parks_percent_change_from_baseline_t_0',\n",
       "       'transit_stations_percent_change_from_baseline_t_0',\n",
       "       'workplaces_percent_change_from_baseline_t_0',\n",
       "       'residential_percent_change_from_baseline_t_0', 'new_cases',\n",
       "       'population_density', 'median_age'],\n",
       "      dtype='object')"
      ]
     },
     "execution_count": 60,
     "metadata": {},
     "output_type": "execute_result"
    }
   ],
   "source": [
    "df_1.columns"
   ]
  },
  {
   "cell_type": "code",
   "execution_count": 61,
   "metadata": {},
   "outputs": [
    {
     "data": {
      "text/html": [
       "<div>\n",
       "<style scoped>\n",
       "    .dataframe tbody tr th:only-of-type {\n",
       "        vertical-align: middle;\n",
       "    }\n",
       "\n",
       "    .dataframe tbody tr th {\n",
       "        vertical-align: top;\n",
       "    }\n",
       "\n",
       "    .dataframe thead th {\n",
       "        text-align: right;\n",
       "    }\n",
       "</style>\n",
       "<table border=\"1\" class=\"dataframe\">\n",
       "  <thead>\n",
       "    <tr style=\"text-align: right;\">\n",
       "      <th></th>\n",
       "      <th>count</th>\n",
       "      <th>mean</th>\n",
       "      <th>std</th>\n",
       "      <th>min</th>\n",
       "      <th>25%</th>\n",
       "      <th>50%</th>\n",
       "      <th>75%</th>\n",
       "      <th>max</th>\n",
       "    </tr>\n",
       "  </thead>\n",
       "  <tbody>\n",
       "    <tr>\n",
       "      <th>retail_and_recreation_percent_change_from_baseline_t_p1</th>\n",
       "      <td>49436.0</td>\n",
       "      <td>-24.404584</td>\n",
       "      <td>24.146434</td>\n",
       "      <td>-97.00</td>\n",
       "      <td>-38.000</td>\n",
       "      <td>-21.000</td>\n",
       "      <td>-8.000</td>\n",
       "      <td>107.000</td>\n",
       "    </tr>\n",
       "    <tr>\n",
       "      <th>grocery_and_pharmacy_percent_change_from_baseline_t_p1</th>\n",
       "      <td>49436.0</td>\n",
       "      <td>-4.749575</td>\n",
       "      <td>23.057970</td>\n",
       "      <td>-98.00</td>\n",
       "      <td>-15.000</td>\n",
       "      <td>-4.000</td>\n",
       "      <td>6.000</td>\n",
       "      <td>166.000</td>\n",
       "    </tr>\n",
       "    <tr>\n",
       "      <th>parks_percent_change_from_baseline_t_p1</th>\n",
       "      <td>49436.0</td>\n",
       "      <td>-2.485840</td>\n",
       "      <td>47.193993</td>\n",
       "      <td>-100.00</td>\n",
       "      <td>-29.000</td>\n",
       "      <td>-12.000</td>\n",
       "      <td>11.000</td>\n",
       "      <td>517.000</td>\n",
       "    </tr>\n",
       "    <tr>\n",
       "      <th>transit_stations_percent_change_from_baseline_t_p1</th>\n",
       "      <td>49436.0</td>\n",
       "      <td>-28.503277</td>\n",
       "      <td>24.039704</td>\n",
       "      <td>-98.00</td>\n",
       "      <td>-44.000</td>\n",
       "      <td>-29.000</td>\n",
       "      <td>-12.000</td>\n",
       "      <td>91.000</td>\n",
       "    </tr>\n",
       "    <tr>\n",
       "      <th>workplaces_percent_change_from_baseline_t_p1</th>\n",
       "      <td>49436.0</td>\n",
       "      <td>-22.775710</td>\n",
       "      <td>19.106056</td>\n",
       "      <td>-94.00</td>\n",
       "      <td>-33.000</td>\n",
       "      <td>-21.000</td>\n",
       "      <td>-10.000</td>\n",
       "      <td>80.000</td>\n",
       "    </tr>\n",
       "    <tr>\n",
       "      <th>residential_percent_change_from_baseline_t_p1</th>\n",
       "      <td>49436.0</td>\n",
       "      <td>9.230500</td>\n",
       "      <td>8.788149</td>\n",
       "      <td>-35.00</td>\n",
       "      <td>3.000</td>\n",
       "      <td>8.000</td>\n",
       "      <td>14.000</td>\n",
       "      <td>55.000</td>\n",
       "    </tr>\n",
       "    <tr>\n",
       "      <th>retail_and_recreation_percent_change_from_baseline_t_0</th>\n",
       "      <td>49436.0</td>\n",
       "      <td>-24.437495</td>\n",
       "      <td>24.140413</td>\n",
       "      <td>-97.00</td>\n",
       "      <td>-38.000</td>\n",
       "      <td>-21.000</td>\n",
       "      <td>-8.000</td>\n",
       "      <td>107.000</td>\n",
       "    </tr>\n",
       "    <tr>\n",
       "      <th>grocery_and_pharmacy_percent_change_from_baseline_t_0</th>\n",
       "      <td>49436.0</td>\n",
       "      <td>-4.696274</td>\n",
       "      <td>23.100588</td>\n",
       "      <td>-98.00</td>\n",
       "      <td>-15.000</td>\n",
       "      <td>-4.000</td>\n",
       "      <td>6.000</td>\n",
       "      <td>166.000</td>\n",
       "    </tr>\n",
       "    <tr>\n",
       "      <th>parks_percent_change_from_baseline_t_0</th>\n",
       "      <td>49436.0</td>\n",
       "      <td>-2.476899</td>\n",
       "      <td>47.213891</td>\n",
       "      <td>-100.00</td>\n",
       "      <td>-29.000</td>\n",
       "      <td>-12.000</td>\n",
       "      <td>11.000</td>\n",
       "      <td>517.000</td>\n",
       "    </tr>\n",
       "    <tr>\n",
       "      <th>transit_stations_percent_change_from_baseline_t_0</th>\n",
       "      <td>49436.0</td>\n",
       "      <td>-28.546768</td>\n",
       "      <td>24.036828</td>\n",
       "      <td>-95.00</td>\n",
       "      <td>-44.000</td>\n",
       "      <td>-29.000</td>\n",
       "      <td>-12.000</td>\n",
       "      <td>91.000</td>\n",
       "    </tr>\n",
       "    <tr>\n",
       "      <th>workplaces_percent_change_from_baseline_t_0</th>\n",
       "      <td>49436.0</td>\n",
       "      <td>-22.844000</td>\n",
       "      <td>19.100800</td>\n",
       "      <td>-92.00</td>\n",
       "      <td>-33.000</td>\n",
       "      <td>-21.000</td>\n",
       "      <td>-10.000</td>\n",
       "      <td>80.000</td>\n",
       "    </tr>\n",
       "    <tr>\n",
       "      <th>residential_percent_change_from_baseline_t_0</th>\n",
       "      <td>49436.0</td>\n",
       "      <td>9.245186</td>\n",
       "      <td>8.785205</td>\n",
       "      <td>-35.00</td>\n",
       "      <td>3.000</td>\n",
       "      <td>8.000</td>\n",
       "      <td>14.000</td>\n",
       "      <td>55.000</td>\n",
       "    </tr>\n",
       "    <tr>\n",
       "      <th>new_cases</th>\n",
       "      <td>49436.0</td>\n",
       "      <td>2680.600332</td>\n",
       "      <td>11440.063485</td>\n",
       "      <td>-74347.00</td>\n",
       "      <td>12.000</td>\n",
       "      <td>204.000</td>\n",
       "      <td>1155.000</td>\n",
       "      <td>300310.000</td>\n",
       "    </tr>\n",
       "    <tr>\n",
       "      <th>population_density</th>\n",
       "      <td>49436.0</td>\n",
       "      <td>234.046365</td>\n",
       "      <td>762.416978</td>\n",
       "      <td>1.98</td>\n",
       "      <td>35.608</td>\n",
       "      <td>85.129</td>\n",
       "      <td>213.759</td>\n",
       "      <td>7915.731</td>\n",
       "    </tr>\n",
       "    <tr>\n",
       "      <th>median_age</th>\n",
       "      <td>49436.0</td>\n",
       "      <td>32.404843</td>\n",
       "      <td>9.004942</td>\n",
       "      <td>15.10</td>\n",
       "      <td>25.300</td>\n",
       "      <td>31.900</td>\n",
       "      <td>41.200</td>\n",
       "      <td>48.200</td>\n",
       "    </tr>\n",
       "  </tbody>\n",
       "</table>\n",
       "</div>"
      ],
      "text/plain": [
       "                                                      count         mean  \\\n",
       "retail_and_recreation_percent_change_from_basel...  49436.0   -24.404584   \n",
       "grocery_and_pharmacy_percent_change_from_baseli...  49436.0    -4.749575   \n",
       "parks_percent_change_from_baseline_t_p1             49436.0    -2.485840   \n",
       "transit_stations_percent_change_from_baseline_t_p1  49436.0   -28.503277   \n",
       "workplaces_percent_change_from_baseline_t_p1        49436.0   -22.775710   \n",
       "residential_percent_change_from_baseline_t_p1       49436.0     9.230500   \n",
       "retail_and_recreation_percent_change_from_basel...  49436.0   -24.437495   \n",
       "grocery_and_pharmacy_percent_change_from_baseli...  49436.0    -4.696274   \n",
       "parks_percent_change_from_baseline_t_0              49436.0    -2.476899   \n",
       "transit_stations_percent_change_from_baseline_t_0   49436.0   -28.546768   \n",
       "workplaces_percent_change_from_baseline_t_0         49436.0   -22.844000   \n",
       "residential_percent_change_from_baseline_t_0        49436.0     9.245186   \n",
       "new_cases                                           49436.0  2680.600332   \n",
       "population_density                                  49436.0   234.046365   \n",
       "median_age                                          49436.0    32.404843   \n",
       "\n",
       "                                                             std       min  \\\n",
       "retail_and_recreation_percent_change_from_basel...     24.146434    -97.00   \n",
       "grocery_and_pharmacy_percent_change_from_baseli...     23.057970    -98.00   \n",
       "parks_percent_change_from_baseline_t_p1                47.193993   -100.00   \n",
       "transit_stations_percent_change_from_baseline_t_p1     24.039704    -98.00   \n",
       "workplaces_percent_change_from_baseline_t_p1           19.106056    -94.00   \n",
       "residential_percent_change_from_baseline_t_p1           8.788149    -35.00   \n",
       "retail_and_recreation_percent_change_from_basel...     24.140413    -97.00   \n",
       "grocery_and_pharmacy_percent_change_from_baseli...     23.100588    -98.00   \n",
       "parks_percent_change_from_baseline_t_0                 47.213891   -100.00   \n",
       "transit_stations_percent_change_from_baseline_t_0      24.036828    -95.00   \n",
       "workplaces_percent_change_from_baseline_t_0            19.100800    -92.00   \n",
       "residential_percent_change_from_baseline_t_0            8.785205    -35.00   \n",
       "new_cases                                           11440.063485 -74347.00   \n",
       "population_density                                    762.416978      1.98   \n",
       "median_age                                              9.004942     15.10   \n",
       "\n",
       "                                                       25%      50%       75%  \\\n",
       "retail_and_recreation_percent_change_from_basel... -38.000  -21.000    -8.000   \n",
       "grocery_and_pharmacy_percent_change_from_baseli... -15.000   -4.000     6.000   \n",
       "parks_percent_change_from_baseline_t_p1            -29.000  -12.000    11.000   \n",
       "transit_stations_percent_change_from_baseline_t_p1 -44.000  -29.000   -12.000   \n",
       "workplaces_percent_change_from_baseline_t_p1       -33.000  -21.000   -10.000   \n",
       "residential_percent_change_from_baseline_t_p1        3.000    8.000    14.000   \n",
       "retail_and_recreation_percent_change_from_basel... -38.000  -21.000    -8.000   \n",
       "grocery_and_pharmacy_percent_change_from_baseli... -15.000   -4.000     6.000   \n",
       "parks_percent_change_from_baseline_t_0             -29.000  -12.000    11.000   \n",
       "transit_stations_percent_change_from_baseline_t_0  -44.000  -29.000   -12.000   \n",
       "workplaces_percent_change_from_baseline_t_0        -33.000  -21.000   -10.000   \n",
       "residential_percent_change_from_baseline_t_0         3.000    8.000    14.000   \n",
       "new_cases                                           12.000  204.000  1155.000   \n",
       "population_density                                  35.608   85.129   213.759   \n",
       "median_age                                          25.300   31.900    41.200   \n",
       "\n",
       "                                                           max  \n",
       "retail_and_recreation_percent_change_from_basel...     107.000  \n",
       "grocery_and_pharmacy_percent_change_from_baseli...     166.000  \n",
       "parks_percent_change_from_baseline_t_p1                517.000  \n",
       "transit_stations_percent_change_from_baseline_t_p1      91.000  \n",
       "workplaces_percent_change_from_baseline_t_p1            80.000  \n",
       "residential_percent_change_from_baseline_t_p1           55.000  \n",
       "retail_and_recreation_percent_change_from_basel...     107.000  \n",
       "grocery_and_pharmacy_percent_change_from_baseli...     166.000  \n",
       "parks_percent_change_from_baseline_t_0                 517.000  \n",
       "transit_stations_percent_change_from_baseline_t_0       91.000  \n",
       "workplaces_percent_change_from_baseline_t_0             80.000  \n",
       "residential_percent_change_from_baseline_t_0            55.000  \n",
       "new_cases                                           300310.000  \n",
       "population_density                                    7915.731  \n",
       "median_age                                              48.200  "
      ]
     },
     "execution_count": 61,
     "metadata": {},
     "output_type": "execute_result"
    }
   ],
   "source": [
    "df_1.describe().T"
   ]
  },
  {
   "cell_type": "code",
   "execution_count": 62,
   "metadata": {},
   "outputs": [
    {
     "data": {
      "text/plain": [
       "46"
      ]
     },
     "execution_count": 62,
     "metadata": {},
     "output_type": "execute_result"
    }
   ],
   "source": [
    "#Can see some negative value in new_cases column\n",
    "#it should be the correction of over all count\n",
    "#Find the count of such entries\n",
    "\n",
    "len(df_1[df_1['new_cases'] < 0])"
   ]
  },
  {
   "cell_type": "code",
   "execution_count": null,
   "metadata": {},
   "outputs": [],
   "source": []
  },
  {
   "cell_type": "code",
   "execution_count": 63,
   "metadata": {},
   "outputs": [],
   "source": [
    "#remove such cases\n",
    "df_only_positive_new_cases = df_1[df_1['new_cases'] >= 0]"
   ]
  },
  {
   "cell_type": "code",
   "execution_count": 64,
   "metadata": {},
   "outputs": [],
   "source": [
    "df_2 = df_only_positive_new_cases"
   ]
  },
  {
   "cell_type": "code",
   "execution_count": 65,
   "metadata": {},
   "outputs": [],
   "source": [
    "#df_2 = df_only_positive[df_only_positive['new_cases'] <= 100000]"
   ]
  },
  {
   "cell_type": "code",
   "execution_count": 66,
   "metadata": {},
   "outputs": [
    {
     "data": {
      "text/plain": [
       "(49390, 15)"
      ]
     },
     "execution_count": 66,
     "metadata": {},
     "output_type": "execute_result"
    }
   ],
   "source": [
    "df_2.shape"
   ]
  },
  {
   "cell_type": "code",
   "execution_count": 67,
   "metadata": {},
   "outputs": [
    {
     "data": {
      "text/plain": [
       "Index(['retail_and_recreation_percent_change_from_baseline_t_p1',\n",
       "       'grocery_and_pharmacy_percent_change_from_baseline_t_p1',\n",
       "       'parks_percent_change_from_baseline_t_p1',\n",
       "       'transit_stations_percent_change_from_baseline_t_p1',\n",
       "       'workplaces_percent_change_from_baseline_t_p1',\n",
       "       'residential_percent_change_from_baseline_t_p1',\n",
       "       'retail_and_recreation_percent_change_from_baseline_t_0',\n",
       "       'grocery_and_pharmacy_percent_change_from_baseline_t_0',\n",
       "       'parks_percent_change_from_baseline_t_0',\n",
       "       'transit_stations_percent_change_from_baseline_t_0',\n",
       "       'workplaces_percent_change_from_baseline_t_0',\n",
       "       'residential_percent_change_from_baseline_t_0', 'new_cases',\n",
       "       'population_density', 'median_age'],\n",
       "      dtype='object')"
      ]
     },
     "execution_count": 67,
     "metadata": {},
     "output_type": "execute_result"
    }
   ],
   "source": [
    "df_2.columns"
   ]
  },
  {
   "cell_type": "code",
   "execution_count": 68,
   "metadata": {},
   "outputs": [
    {
     "name": "stdout",
     "output_type": "stream",
     "text": [
      "Number of entries with more than 10 new cases reported per day : 37435\n",
      "Number of entries with more than 100 new cases reported per day : 28603\n",
      "Number of entries with more than 1000 new cases reported per day : 13374\n",
      "Number of entries with more than 10000 new cases reported per day : 2688\n",
      "Number of entries with more than 100000 new cases reported per day : 110\n",
      "Number of entries with more than 200000 new cases reported per day : 34\n"
     ]
    }
   ],
   "source": [
    "print (\"Number of entries with more than 10 new cases reported per day :\",len(df_2[df_2['new_cases']>10]))\n",
    "print (\"Number of entries with more than 100 new cases reported per day :\",len(df_2[df_2['new_cases']>100]))\n",
    "print (\"Number of entries with more than 1000 new cases reported per day :\",len(df_2[df_2['new_cases']>1000]))\n",
    "print (\"Number of entries with more than 10000 new cases reported per day :\",len(df_2[df_2['new_cases']>10000]))\n",
    "print (\"Number of entries with more than 100000 new cases reported per day :\",len(df_2[df_2['new_cases']>100000]))\n",
    "print (\"Number of entries with more than 200000 new cases reported per day :\",len(df_2[df_2['new_cases']>200000]))"
   ]
  },
  {
   "cell_type": "code",
   "execution_count": 69,
   "metadata": {},
   "outputs": [],
   "source": [
    "df_2 = df_2[df_2['new_cases'] < 100000]"
   ]
  },
  {
   "cell_type": "code",
   "execution_count": 70,
   "metadata": {},
   "outputs": [],
   "source": [
    "from sklearn.model_selection import train_test_split\n",
    "from sklearn.preprocessing import MinMaxScaler,StandardScaler"
   ]
  },
  {
   "cell_type": "code",
   "execution_count": 71,
   "metadata": {},
   "outputs": [
    {
     "data": {
      "text/plain": [
       "<matplotlib.axes._subplots.AxesSubplot at 0x23aac231bc8>"
      ]
     },
     "execution_count": 71,
     "metadata": {},
     "output_type": "execute_result"
    },
    {
     "data": {
      "image/png": "[encoded data removed]",
      "text/plain": [
       "<Figure size 1800x1800 with 2 Axes>"
      ]
     },
     "metadata": {
      "needs_background": "light"
     },
     "output_type": "display_data"
    }
   ],
   "source": [
    "import seaborn as sns\n",
    "import matplotlib.pyplot as plt\n",
    "\n",
    "plt.figure(figsize=(25,25))\n",
    "sns.heatmap(df_2.corr(),annot=True)"
   ]
  },
  {
   "cell_type": "code",
   "execution_count": 135,
   "metadata": {},
   "outputs": [],
   "source": [
    "scaler = MinMaxScaler().fit(df_2)\n",
    "df_2_scaled = scaler.transform(df_2)"
   ]
  },
  {
   "cell_type": "code",
   "execution_count": 136,
   "metadata": {},
   "outputs": [
    {
     "ename": "AttributeError",
     "evalue": "'numpy.ndarray' object has no attribute 'corr'",
     "output_type": "error",
     "traceback": [
      "\u001b[1;31m---------------------------------------------------------------------------\u001b[0m",
      "\u001b[1;31mAttributeError\u001b[0m                            Traceback (most recent call last)",
      "\u001b[1;32m<ipython-input-136-76a8b3284a67>\u001b[0m in \u001b[0;36m<module>\u001b[1;34m\u001b[0m\n\u001b[0;32m      1\u001b[0m \u001b[0mplt\u001b[0m\u001b[1;33m.\u001b[0m\u001b[0mfigure\u001b[0m\u001b[1;33m(\u001b[0m\u001b[0mfigsize\u001b[0m\u001b[1;33m=\u001b[0m\u001b[1;33m(\u001b[0m\u001b[1;36m25\u001b[0m\u001b[1;33m,\u001b[0m\u001b[1;36m25\u001b[0m\u001b[1;33m)\u001b[0m\u001b[1;33m)\u001b[0m\u001b[1;33m\u001b[0m\u001b[1;33m\u001b[0m\u001b[0m\n\u001b[1;32m----> 2\u001b[1;33m \u001b[0msns\u001b[0m\u001b[1;33m.\u001b[0m\u001b[0mheatmap\u001b[0m\u001b[1;33m(\u001b[0m\u001b[0mdf_2_scaled\u001b[0m\u001b[1;33m.\u001b[0m\u001b[0mcorr\u001b[0m\u001b[1;33m(\u001b[0m\u001b[1;33m)\u001b[0m\u001b[1;33m,\u001b[0m\u001b[0mannot\u001b[0m\u001b[1;33m=\u001b[0m\u001b[1;32mTrue\u001b[0m\u001b[1;33m)\u001b[0m\u001b[1;33m\u001b[0m\u001b[1;33m\u001b[0m\u001b[0m\n\u001b[0m",
      "\u001b[1;31mAttributeError\u001b[0m: 'numpy.ndarray' object has no attribute 'corr'"
     ]
    },
    {
     "data": {
      "text/plain": [
       "<Figure size 1800x1800 with 0 Axes>"
      ]
     },
     "metadata": {},
     "output_type": "display_data"
    }
   ],
   "source": [
    "plt.figure(figsize=(25,25))\n",
    "sns.heatmap(df_2_scaled.corr(),annot=True)"
   ]
  },
  {
   "cell_type": "code",
   "execution_count": 72,
   "metadata": {},
   "outputs": [],
   "source": [
    "#Split the dataset into training and test set in the ratio of 70:30 (Training:Test).\n",
    "#split dataset in features and target variable\n",
    "\n",
    "X = df_2.drop('new_cases',axis=1) # Features\n",
    "y = df_2['new_cases'] # Target variable"
   ]
  },
  {
   "cell_type": "code",
   "execution_count": 73,
   "metadata": {},
   "outputs": [
    {
     "data": {
      "text/plain": [
       "Index(['retail_and_recreation_percent_change_from_baseline_t_p1',\n",
       "       'grocery_and_pharmacy_percent_change_from_baseline_t_p1',\n",
       "       'parks_percent_change_from_baseline_t_p1',\n",
       "       'transit_stations_percent_change_from_baseline_t_p1',\n",
       "       'workplaces_percent_change_from_baseline_t_p1',\n",
       "       'residential_percent_change_from_baseline_t_p1',\n",
       "       'retail_and_recreation_percent_change_from_baseline_t_0',\n",
       "       'grocery_and_pharmacy_percent_change_from_baseline_t_0',\n",
       "       'parks_percent_change_from_baseline_t_0',\n",
       "       'transit_stations_percent_change_from_baseline_t_0',\n",
       "       'workplaces_percent_change_from_baseline_t_0',\n",
       "       'residential_percent_change_from_baseline_t_0', 'population_density',\n",
       "       'median_age'],\n",
       "      dtype='object')"
      ]
     },
     "execution_count": 73,
     "metadata": {},
     "output_type": "execute_result"
    }
   ],
   "source": [
    "X.columns"
   ]
  },
  {
   "cell_type": "code",
   "execution_count": 74,
   "metadata": {},
   "outputs": [],
   "source": [
    "y = y.astype(int)"
   ]
  },
  {
   "cell_type": "code",
   "execution_count": 75,
   "metadata": {},
   "outputs": [],
   "source": [
    "#Look at the distribution of new_cases"
   ]
  },
  {
   "cell_type": "code",
   "execution_count": 76,
   "metadata": {},
   "outputs": [
    {
     "data": {
      "text/plain": [
       "<matplotlib.axes._subplots.AxesSubplot at 0x23ac09fb288>"
      ]
     },
     "execution_count": 76,
     "metadata": {},
     "output_type": "execute_result"
    },
    {
     "data": {
      "image/png": "[encoded data removed]",
      "text/plain": [
       "<Figure size 432x288 with 1 Axes>"
      ]
     },
     "metadata": {
      "needs_background": "light"
     },
     "output_type": "display_data"
    }
   ],
   "source": [
    "sns.distplot(y)"
   ]
  },
  {
   "cell_type": "code",
   "execution_count": 77,
   "metadata": {},
   "outputs": [
    {
     "data": {
      "text/plain": [
       "array([   1,    0,    4, ..., 3751, 2320, 2327])"
      ]
     },
     "execution_count": 77,
     "metadata": {},
     "output_type": "execute_result"
    }
   ],
   "source": [
    "y.unique()"
   ]
  },
  {
   "cell_type": "code",
   "execution_count": 78,
   "metadata": {},
   "outputs": [
    {
     "data": {
      "text/plain": [
       "8348"
      ]
     },
     "execution_count": 78,
     "metadata": {},
     "output_type": "execute_result"
    }
   ],
   "source": [
    "y.nunique()"
   ]
  },
  {
   "cell_type": "code",
   "execution_count": 79,
   "metadata": {},
   "outputs": [
    {
     "data": {
      "text/plain": [
       "99638"
      ]
     },
     "execution_count": 79,
     "metadata": {},
     "output_type": "execute_result"
    }
   ],
   "source": [
    "#Maximum value of daily reported new cases\n",
    "y.max()"
   ]
  },
  {
   "cell_type": "code",
   "execution_count": 80,
   "metadata": {},
   "outputs": [
    {
     "name": "stdout",
     "output_type": "stream",
     "text": [
      "Number of entries with more than 10 new cases reported per day : 37325\n",
      "Number of entries with more than 100 new cases reported per day : 28493\n",
      "Number of entries with more than 1000 new cases reported per day : 13264\n",
      "Number of entries with more than 10000 new cases reported per day : 2578\n",
      "Number of entries with more than 100000 new cases reported per day : 0\n",
      "Number of entries with more than 200000 new cases reported per day : 0\n"
     ]
    }
   ],
   "source": [
    "print (\"Number of entries with more than 10 new cases reported per day :\",len(df_2[df_2['new_cases']>10]))\n",
    "print (\"Number of entries with more than 100 new cases reported per day :\",len(df_2[df_2['new_cases']>100]))\n",
    "print (\"Number of entries with more than 1000 new cases reported per day :\",len(df_2[df_2['new_cases']>1000]))\n",
    "print (\"Number of entries with more than 10000 new cases reported per day :\",len(df_2[df_2['new_cases']>10000]))\n",
    "print (\"Number of entries with more than 100000 new cases reported per day :\",len(df_2[df_2['new_cases']>100000]))\n",
    "print (\"Number of entries with more than 200000 new cases reported per day :\",len(df_2[df_2['new_cases']>200000]))"
   ]
  },
  {
   "cell_type": "code",
   "execution_count": 81,
   "metadata": {},
   "outputs": [
    {
     "data": {
      "text/plain": [
       "<matplotlib.axes._subplots.AxesSubplot at 0x23aa0dd8588>"
      ]
     },
     "execution_count": 81,
     "metadata": {},
     "output_type": "execute_result"
    },
    {
     "data": {
      "image/png": "[encoded data removed]",
      "text/plain": [
       "<Figure size 432x288 with 1 Axes>"
      ]
     },
     "metadata": {
      "needs_background": "light"
     },
     "output_type": "display_data"
    }
   ],
   "source": [
    "#Outlier analysis of input features\n",
    "sns.boxplot(data=X,orient=\"h\",fliersize=10)"
   ]
  },
  {
   "cell_type": "code",
   "execution_count": 82,
   "metadata": {},
   "outputs": [],
   "source": [
    "#from sklearn.preprocessing import MinMaxScaler\n",
    "#scaler = MinMaxScaler()"
   ]
  },
  {
   "cell_type": "code",
   "execution_count": 83,
   "metadata": {},
   "outputs": [],
   "source": [
    "#from sklearn.preprocessing import StandardScaler\n",
    "#scaler = StandardScaler()"
   ]
  },
  {
   "cell_type": "code",
   "execution_count": 84,
   "metadata": {},
   "outputs": [],
   "source": [
    "#from sklearn.preprocessing import MaxAbsScaler\n",
    "#scaler = MaxAbsScaler()"
   ]
  },
  {
   "cell_type": "code",
   "execution_count": 85,
   "metadata": {},
   "outputs": [],
   "source": [
    "#from sklearn.preprocessing import RobustScaler\n",
    "#scaler = RobustScaler()"
   ]
  },
  {
   "cell_type": "code",
   "execution_count": 86,
   "metadata": {},
   "outputs": [],
   "source": [
    "#from sklearn.preprocessing import QuantileTransformer\n",
    "#scaler = QuantileTransformer()"
   ]
  },
  {
   "cell_type": "code",
   "execution_count": 87,
   "metadata": {},
   "outputs": [],
   "source": [
    "#from sklearn.preprocessing import Normalizer\n",
    "#scaler = Normalizer(norm = 'l2')"
   ]
  },
  {
   "cell_type": "code",
   "execution_count": 88,
   "metadata": {},
   "outputs": [],
   "source": [
    "# Split X and y into training and test set in 70:30 ratio\n",
    "X_train, X_test, y_train, y_test = train_test_split(X, y, test_size=0.30, random_state=10)"
   ]
  },
  {
   "cell_type": "code",
   "execution_count": null,
   "metadata": {},
   "outputs": [],
   "source": []
  },
  {
   "cell_type": "code",
   "execution_count": 89,
   "metadata": {},
   "outputs": [],
   "source": [
    "#Try different models"
   ]
  },
  {
   "cell_type": "code",
   "execution_count": null,
   "metadata": {},
   "outputs": [],
   "source": []
  },
  {
   "cell_type": "code",
   "execution_count": 90,
   "metadata": {},
   "outputs": [],
   "source": [
    "# Baseline evaluation\n",
    "\n",
    "num_folds = 3\n",
    "seed =7\n",
    "\n",
    "scoring = 'mean_squared_error'"
   ]
  },
  {
   "cell_type": "code",
   "execution_count": 91,
   "metadata": {},
   "outputs": [],
   "source": [
    "#Evaluate each model in a loop\n",
    "\n",
    "from sklearn.linear_model import LinearRegression\n",
    "from sklearn.neighbors import KNeighborsRegressor\n",
    "from sklearn.tree import DecisionTreeRegressor\n",
    "from sklearn.pipeline import Pipeline\n",
    "from sklearn.ensemble import RandomForestRegressor\n",
    "from sklearn.ensemble import AdaBoostRegressor\n",
    "from sklearn.metrics import mean_squared_error\n",
    "from sklearn.preprocessing import StandardScaler\n",
    "from sklearn.model_selection import GridSearchCV\n",
    "\n",
    "results = []\n",
    "\n",
    "names = []\n",
    "\n",
    "models = []\n",
    "\n",
    "models.append(('LR' , LinearRegression()))\n",
    "models.append(('KNN' , KNeighborsRegressor()))\n",
    "models.append(('DecisionTree', DecisionTreeRegressor()))\n",
    "models.append(('AdaBoost', AdaBoostRegressor()))\n",
    "models.append(('RandomForest', RandomForestRegressor()))"
   ]
  },
  {
   "cell_type": "code",
   "execution_count": 92,
   "metadata": {},
   "outputs": [
    {
     "name": "stdout",
     "output_type": "stream",
     "text": [
      "LR : Mean: 0.057233 (Std: 0.004496)\n",
      "KNN : Mean: 0.698784 (Std: 0.009671)\n",
      "DecisionTree : Mean: 0.670593 (Std: 0.021122)\n",
      "AdaBoost : Mean: 0.092775 (Std: 0.152785)\n",
      "RandomForest : Mean: 0.826894 (Std: 0.010308)\n"
     ]
    }
   ],
   "source": [
    "from sklearn.model_selection import KFold\n",
    "from sklearn.model_selection import cross_val_score\n",
    "\n",
    "results = []\n",
    "\n",
    "for name, model in models:\n",
    "  kfold = KFold(n_splits = num_folds , random_state = seed)\n",
    "  cv_results = cross_val_score(model, X_train, y_train , cv = kfold)\n",
    "  results.append(cv_results)\n",
    "  names.append(name)\n",
    "  msg = \"%s : Mean: %f (Std: %f)\" % ( name , cv_results.mean() , cv_results.std())\n",
    "  print(msg)"
   ]
  },
  {
   "cell_type": "code",
   "execution_count": 93,
   "metadata": {},
   "outputs": [
    {
     "data": {
      "text/plain": [
       "[Text(0, 0, 'LR'),\n",
       " Text(0, 0, 'KNN'),\n",
       " Text(0, 0, 'DecisionTree'),\n",
       " Text(0, 0, 'AdaBoost'),\n",
       " Text(0, 0, 'RandomForest')]"
      ]
     },
     "execution_count": 93,
     "metadata": {},
     "output_type": "execute_result"
    },
    {
     "data": {
      "image/png": "[encoded data removed]",
      "text/plain": [
       "<Figure size 864x864 with 1 Axes>"
      ]
     },
     "metadata": {
      "needs_background": "light"
     },
     "output_type": "display_data"
    }
   ],
   "source": [
    "from matplotlib import pyplot\n",
    "\n",
    "fig = pyplot.figure(figsize = (12,12))\n",
    "ax = fig.add_subplot(111)\n",
    "pyplot.boxplot(results)\n",
    "ax.set_xticklabels(names)"
   ]
  },
  {
   "cell_type": "code",
   "execution_count": null,
   "metadata": {},
   "outputs": [],
   "source": []
  },
  {
   "cell_type": "code",
   "execution_count": 94,
   "metadata": {},
   "outputs": [],
   "source": [
    "#Baseline Evaluation - With Standardization\n",
    "\n",
    "pipelines = []\n",
    "scaler_used = MinMaxScaler()\n",
    "\n",
    "pipelines.append(('ScaledLR' , Pipeline([('Scaler' , scaler_used) , ('LR' , LinearRegression())])))\n",
    "pipelines.append(('ScaledKNN', Pipeline([('Scaler', scaler_used), ('KNN', KNeighborsRegressor())])))\n",
    "pipelines.append(('ScaledDecisionTree', Pipeline([('Scaler', scaler_used), ('DecisionTree', DecisionTreeRegressor())])))\n",
    "pipelines.append(('ScaledAdaBoost', Pipeline([('Scaler', scaler_used),('AdaBoost', AdaBoostRegressor())])))\n",
    "pipelines.append(('ScaledRandomForest', Pipeline([('Scaler', scaler_used),('RandomForest', RandomForestRegressor())])))"
   ]
  },
  {
   "cell_type": "code",
   "execution_count": 95,
   "metadata": {},
   "outputs": [
    {
     "name": "stdout",
     "output_type": "stream",
     "text": [
      "ScaledLR: 0.057233 (0.004496)\n",
      "ScaledKNN: 0.708357 (0.025749)\n",
      "ScaledDecisionTree: 0.656253 (0.010714)\n",
      "ScaledAdaBoost: 0.126046 (0.125593)\n",
      "ScaledRandomForest: 0.827781 (0.011764)\n"
     ]
    }
   ],
   "source": [
    "results = []\n",
    "names = []\n",
    "for name, model in pipelines:\n",
    "    kfold = KFold(n_splits=num_folds, random_state=seed)\n",
    "    cv_results = cross_val_score(model, X_train, y_train, cv=kfold)\n",
    "    results.append(cv_results)\n",
    "    names.append(name)\n",
    "    msg = \"%s: %f (%f)\" % (name, cv_results.mean(), cv_results.std())\n",
    "    print(msg)"
   ]
  },
  {
   "cell_type": "code",
   "execution_count": 96,
   "metadata": {},
   "outputs": [
    {
     "data": {
      "image/png": "[encoded data removed]",
      "text/plain": [
       "<Figure size 864x864 with 1 Axes>"
      ]
     },
     "metadata": {
      "needs_background": "light"
     },
     "output_type": "display_data"
    }
   ],
   "source": [
    "fig = pyplot.figure(figsize=(12,12))\n",
    "fig.suptitle('Scaled Algorithm Comparison')\n",
    "ax = fig.add_subplot(111)\n",
    "pyplot.boxplot(results)\n",
    "ax.set_xticklabels(names)\n",
    "pyplot.show()"
   ]
  },
  {
   "cell_type": "code",
   "execution_count": 97,
   "metadata": {},
   "outputs": [
    {
     "data": {
      "text/plain": [
       "Index(['retail_and_recreation_percent_change_from_baseline_t_p1',\n",
       "       'grocery_and_pharmacy_percent_change_from_baseline_t_p1',\n",
       "       'parks_percent_change_from_baseline_t_p1',\n",
       "       'transit_stations_percent_change_from_baseline_t_p1',\n",
       "       'workplaces_percent_change_from_baseline_t_p1',\n",
       "       'residential_percent_change_from_baseline_t_p1',\n",
       "       'retail_and_recreation_percent_change_from_baseline_t_0',\n",
       "       'grocery_and_pharmacy_percent_change_from_baseline_t_0',\n",
       "       'parks_percent_change_from_baseline_t_0',\n",
       "       'transit_stations_percent_change_from_baseline_t_0',\n",
       "       'workplaces_percent_change_from_baseline_t_0',\n",
       "       'residential_percent_change_from_baseline_t_0', 'population_density',\n",
       "       'median_age'],\n",
       "      dtype='object')"
      ]
     },
     "execution_count": 97,
     "metadata": {},
     "output_type": "execute_result"
    }
   ],
   "source": [
    "X_train.head(10)\n",
    "X_train.columns"
   ]
  },
  {
   "cell_type": "code",
   "execution_count": 98,
   "metadata": {},
   "outputs": [],
   "source": [
    "#Fine tune KNN model"
   ]
  },
  {
   "cell_type": "code",
   "execution_count": 99,
   "metadata": {},
   "outputs": [],
   "source": [
    "param_grid = {\n",
    "    'n_neighbors' : [3,5,7,9],\n",
    "    'weights' : ['distance','uniform'],\n",
    "    'metric' : ['euclidean','manhattan']\n",
    "}"
   ]
  },
  {
   "cell_type": "code",
   "execution_count": 100,
   "metadata": {},
   "outputs": [
    {
     "name": "stdout",
     "output_type": "stream",
     "text": [
      "Fitting 3 folds for each of 16 candidates, totalling 48 fits\n"
     ]
    },
    {
     "name": "stderr",
     "output_type": "stream",
     "text": [
      "[Parallel(n_jobs=-1)]: Using backend LokyBackend with 4 concurrent workers.\n",
      "[Parallel(n_jobs=-1)]: Done  48 out of  48 | elapsed:  1.6min finished\n"
     ]
    }
   ],
   "source": [
    "model = KNeighborsRegressor()\n",
    "\n",
    "kfold = KFold(n_splits=num_folds, random_state=seed)\n",
    "\n",
    "grid = GridSearchCV(estimator=model, param_grid=param_grid, verbose=1, cv=kfold,n_jobs=-1)\n",
    "\n",
    "scaler = MinMaxScaler().fit(X_train)\n",
    "X_train_scaled = scaler.transform(X_train)\n",
    "\n",
    "grid_result = grid.fit(X_train_scaled, y_train)"
   ]
  },
  {
   "cell_type": "code",
   "execution_count": null,
   "metadata": {},
   "outputs": [],
   "source": []
  },
  {
   "cell_type": "code",
   "execution_count": 101,
   "metadata": {},
   "outputs": [
    {
     "name": "stdout",
     "output_type": "stream",
     "text": [
      "0.742703 (0.020410) with : {'metric': 'euclidean', 'n_neighbors': 3, 'weights': 'distance'} \n",
      "0.728457 (0.022221) with : {'metric': 'euclidean', 'n_neighbors': 3, 'weights': 'uniform'} \n",
      "0.733433 (0.022607) with : {'metric': 'euclidean', 'n_neighbors': 5, 'weights': 'distance'} \n",
      "0.709296 (0.024473) with : {'metric': 'euclidean', 'n_neighbors': 5, 'weights': 'uniform'} \n",
      "0.722801 (0.020493) with : {'metric': 'euclidean', 'n_neighbors': 7, 'weights': 'distance'} \n",
      "0.693863 (0.021100) with : {'metric': 'euclidean', 'n_neighbors': 7, 'weights': 'uniform'} \n",
      "0.707294 (0.021940) with : {'metric': 'euclidean', 'n_neighbors': 9, 'weights': 'distance'} \n",
      "0.672803 (0.023535) with : {'metric': 'euclidean', 'n_neighbors': 9, 'weights': 'uniform'} \n",
      "0.771526 (0.007340) with : {'metric': 'manhattan', 'n_neighbors': 3, 'weights': 'distance'} \n",
      "0.758515 (0.009932) with : {'metric': 'manhattan', 'n_neighbors': 3, 'weights': 'uniform'} \n",
      "0.766442 (0.013585) with : {'metric': 'manhattan', 'n_neighbors': 5, 'weights': 'distance'} \n",
      "0.747358 (0.014711) with : {'metric': 'manhattan', 'n_neighbors': 5, 'weights': 'uniform'} \n",
      "0.755658 (0.013182) with : {'metric': 'manhattan', 'n_neighbors': 7, 'weights': 'distance'} \n",
      "0.730443 (0.014000) with : {'metric': 'manhattan', 'n_neighbors': 7, 'weights': 'uniform'} \n",
      "0.745157 (0.011977) with : {'metric': 'manhattan', 'n_neighbors': 9, 'weights': 'distance'} \n",
      "0.716819 (0.012183) with : {'metric': 'manhattan', 'n_neighbors': 9, 'weights': 'uniform'} \n"
     ]
    }
   ],
   "source": [
    "means = grid_result.cv_results_['mean_test_score']\n",
    "\n",
    "stds = grid_result.cv_results_['std_test_score']\n",
    "params = grid_result.cv_results_['params']\n",
    "for mean, stdev, param in zip(means, stds, params):\n",
    "  print(\"%f (%f) with : %r \" % (mean , stdev, param))"
   ]
  },
  {
   "cell_type": "code",
   "execution_count": 102,
   "metadata": {},
   "outputs": [
    {
     "name": "stdout",
     "output_type": "stream",
     "text": [
      "Best 0.771526 using {'metric': 'manhattan', 'n_neighbors': 3, 'weights': 'distance'}\n"
     ]
    }
   ],
   "source": [
    "print(\"Best %f using %s\" % (grid_result.best_score_ , grid_result.best_params_))"
   ]
  },
  {
   "cell_type": "code",
   "execution_count": null,
   "metadata": {},
   "outputs": [],
   "source": []
  },
  {
   "cell_type": "code",
   "execution_count": 103,
   "metadata": {},
   "outputs": [
    {
     "data": {
      "text/plain": [
       "KNeighborsRegressor(metric='manhattan', n_neighbors=3, weights='distance')"
      ]
     },
     "execution_count": 103,
     "metadata": {},
     "output_type": "execute_result"
    }
   ],
   "source": [
    "# prepare the model\n",
    "scaler = MinMaxScaler().fit(X_train)\n",
    "rescaledX = scaler.transform(X_train)\n",
    "\n",
    "model = KNeighborsRegressor(metric = 'manhattan',n_neighbors = 3, weights = 'distance')\n",
    "model.fit(rescaledX, y_train)"
   ]
  },
  {
   "cell_type": "code",
   "execution_count": 104,
   "metadata": {},
   "outputs": [],
   "source": [
    "# transform the validation dataset\n",
    "rescaledValidationX = scaler.transform(X_test)\n",
    "\n",
    "knn_pred_test = model.predict(rescaledValidationX)"
   ]
  },
  {
   "cell_type": "code",
   "execution_count": 105,
   "metadata": {},
   "outputs": [
    {
     "name": "stdout",
     "output_type": "stream",
     "text": [
      "0.83196059989392\n"
     ]
    }
   ],
   "source": [
    "from sklearn.metrics import r2_score\n",
    "print(r2_score(y_test,knn_pred_test))"
   ]
  },
  {
   "cell_type": "code",
   "execution_count": 106,
   "metadata": {},
   "outputs": [
    {
     "name": "stdout",
     "output_type": "stream",
     "text": [
      "9262571.15371577\n"
     ]
    }
   ],
   "source": [
    "print(mean_squared_error(y_test,knn_pred_test))"
   ]
  },
  {
   "cell_type": "code",
   "execution_count": 107,
   "metadata": {},
   "outputs": [
    {
     "data": {
      "text/plain": [
       "25587     5681\n",
       "54019        9\n",
       "46740     3273\n",
       "45001        0\n",
       "38402      365\n",
       "39159      213\n",
       "4535         0\n",
       "41234       55\n",
       "51810    18856\n",
       "15248      162\n",
       "Name: new_cases, dtype: int32"
      ]
     },
     "execution_count": 107,
     "metadata": {},
     "output_type": "execute_result"
    }
   ],
   "source": [
    "y_test[:10]"
   ]
  },
  {
   "cell_type": "code",
   "execution_count": 108,
   "metadata": {},
   "outputs": [
    {
     "data": {
      "text/plain": [
       "array([6.96750184e+03, 1.34755917e+01, 1.59349813e+03, 0.00000000e+00,\n",
       "       2.07823399e+02, 4.62513824e+02, 0.00000000e+00, 4.59425881e+01,\n",
       "       1.63694437e+04, 1.37536277e+02])"
      ]
     },
     "execution_count": 108,
     "metadata": {},
     "output_type": "execute_result"
    }
   ],
   "source": [
    "knn_pred_test[:10]"
   ]
  },
  {
   "cell_type": "code",
   "execution_count": 109,
   "metadata": {},
   "outputs": [],
   "source": [
    "##Fine tune RandomForestRegressor"
   ]
  },
  {
   "cell_type": "code",
   "execution_count": 110,
   "metadata": {},
   "outputs": [],
   "source": [
    "# Parameters for RF\n",
    "import numpy\n",
    "param_grid = dict(n_estimators=numpy.array([10,50,100]))"
   ]
  },
  {
   "cell_type": "code",
   "execution_count": 111,
   "metadata": {},
   "outputs": [
    {
     "name": "stdout",
     "output_type": "stream",
     "text": [
      "Fitting 3 folds for each of 3 candidates, totalling 9 fits\n"
     ]
    },
    {
     "name": "stderr",
     "output_type": "stream",
     "text": [
      "[Parallel(n_jobs=-1)]: Using backend LokyBackend with 4 concurrent workers.\n",
      "[Parallel(n_jobs=-1)]: Done   9 out of   9 | elapsed:  1.3min finished\n"
     ]
    }
   ],
   "source": [
    "# Tune scaled Random Forest\n",
    "scaler = MinMaxScaler().fit(X_train)\n",
    "rescaledX = scaler.transform(X_train)\n",
    "\n",
    "model = RandomForestRegressor(random_state=seed)\n",
    "kfold = KFold(n_splits=num_folds, random_state=seed)\n",
    "\n",
    "grid = GridSearchCV(estimator=model, param_grid=param_grid, cv=kfold, verbose=1, n_jobs=-1)\n",
    "grid_result = grid.fit(rescaledX, y_train)"
   ]
  },
  {
   "cell_type": "code",
   "execution_count": 112,
   "metadata": {},
   "outputs": [
    {
     "name": "stdout",
     "output_type": "stream",
     "text": [
      "Best: 0.827240 using {'n_estimators': 100}\n"
     ]
    }
   ],
   "source": [
    "print(\"Best: %f using %s\" % (grid_result.best_score_, grid_result.best_params_))"
   ]
  },
  {
   "cell_type": "code",
   "execution_count": 113,
   "metadata": {},
   "outputs": [
    {
     "name": "stdout",
     "output_type": "stream",
     "text": [
      "0.803586 (0.004614) with: {'n_estimators': 10}\n",
      "0.824201 (0.012473) with: {'n_estimators': 50}\n",
      "0.827240 (0.011153) with: {'n_estimators': 100}\n"
     ]
    }
   ],
   "source": [
    "means = grid_result.cv_results_['mean_test_score']\n",
    "stds = grid_result.cv_results_['std_test_score']\n",
    "params = grid_result.cv_results_['params']\n",
    "for mean, stdev, param in zip(means, stds, params): \n",
    "    print(\"%f (%f) with: %r\" % (mean, stdev, param))"
   ]
  },
  {
   "cell_type": "code",
   "execution_count": null,
   "metadata": {},
   "outputs": [],
   "source": []
  },
  {
   "cell_type": "code",
   "execution_count": 114,
   "metadata": {},
   "outputs": [
    {
     "data": {
      "text/plain": [
       "RandomForestRegressor(n_estimators=10, random_state=7)"
      ]
     },
     "execution_count": 114,
     "metadata": {},
     "output_type": "execute_result"
    }
   ],
   "source": [
    "# prepare the model\n",
    "scaler = MinMaxScaler().fit(X_train)\n",
    "rescaledX = scaler.transform(X_train)\n",
    "\n",
    "model = RandomForestRegressor(random_state=seed, n_estimators=10)\n",
    "model.fit(rescaledX, y_train)"
   ]
  },
  {
   "cell_type": "code",
   "execution_count": 115,
   "metadata": {},
   "outputs": [],
   "source": [
    "# transform the validation dataset\n",
    "rescaledValidationX = scaler.transform(X_test)\n",
    "rf_pred_test = model.predict(rescaledValidationX)"
   ]
  },
  {
   "cell_type": "code",
   "execution_count": 116,
   "metadata": {},
   "outputs": [
    {
     "name": "stdout",
     "output_type": "stream",
     "text": [
      "0.8532276400610432\n"
     ]
    }
   ],
   "source": [
    "from sklearn.metrics import r2_score, accuracy_score\n",
    "\n",
    "print(r2_score(y_test,rf_pred_test))"
   ]
  },
  {
   "cell_type": "code",
   "execution_count": 118,
   "metadata": {},
   "outputs": [
    {
     "name": "stdout",
     "output_type": "stream",
     "text": [
      "8090301.598762853\n"
     ]
    }
   ],
   "source": [
    "print(mean_squared_error(y_test,rf_pred_test))"
   ]
  },
  {
   "cell_type": "code",
   "execution_count": 119,
   "metadata": {},
   "outputs": [
    {
     "data": {
      "text/plain": [
       "25587     5681\n",
       "54019        9\n",
       "46740     3273\n",
       "45001        0\n",
       "38402      365\n",
       "39159      213\n",
       "4535         0\n",
       "41234       55\n",
       "51810    18856\n",
       "15248      162\n",
       "Name: new_cases, dtype: int32"
      ]
     },
     "execution_count": 119,
     "metadata": {},
     "output_type": "execute_result"
    }
   ],
   "source": [
    "y_test[:10]"
   ]
  },
  {
   "cell_type": "code",
   "execution_count": 120,
   "metadata": {},
   "outputs": [
    {
     "data": {
      "text/plain": [
       "array([7.71400e+03, 1.34000e+01, 1.76770e+03, 2.62300e+02, 1.38300e+02,\n",
       "       6.39000e+02, 2.00000e+00, 5.11000e+01, 1.66513e+04, 2.77100e+02])"
      ]
     },
     "execution_count": 120,
     "metadata": {},
     "output_type": "execute_result"
    }
   ],
   "source": [
    "rf_pred_test[:10]"
   ]
  },
  {
   "cell_type": "code",
   "execution_count": null,
   "metadata": {},
   "outputs": [],
   "source": []
  },
  {
   "cell_type": "code",
   "execution_count": 121,
   "metadata": {},
   "outputs": [],
   "source": [
    "#Analysis on test error ratio"
   ]
  },
  {
   "cell_type": "code",
   "execution_count": 122,
   "metadata": {},
   "outputs": [],
   "source": [
    "test_error_ratio = pd.DataFrame(y_test/rf_pred_test)"
   ]
  },
  {
   "cell_type": "code",
   "execution_count": 123,
   "metadata": {},
   "outputs": [
    {
     "data": {
      "text/plain": [
       "<matplotlib.axes._subplots.AxesSubplot at 0x23ac0967188>"
      ]
     },
     "execution_count": 123,
     "metadata": {},
     "output_type": "execute_result"
    },
    {
     "data": {
      "image/png": "[encoded data removed]",
      "text/plain": [
       "<Figure size 1440x1440 with 1 Axes>"
      ]
     },
     "metadata": {
      "needs_background": "light"
     },
     "output_type": "display_data"
    }
   ],
   "source": [
    "test_error_ratio[:100].plot(kind='bar',figsize=(20,20))"
   ]
  },
  {
   "cell_type": "code",
   "execution_count": 124,
   "metadata": {},
   "outputs": [],
   "source": [
    "test_error_ratio.columns = ['ERROR']"
   ]
  },
  {
   "cell_type": "code",
   "execution_count": 125,
   "metadata": {},
   "outputs": [
    {
     "name": "stdout",
     "output_type": "stream",
     "text": [
      "Size of test samples : 14784\n"
     ]
    }
   ],
   "source": [
    "print(\"Size of test samples :\",len(test_error_ratio))"
   ]
  },
  {
   "cell_type": "code",
   "execution_count": 126,
   "metadata": {},
   "outputs": [
    {
     "data": {
      "text/html": [
       "<div>\n",
       "<style scoped>\n",
       "    .dataframe tbody tr th:only-of-type {\n",
       "        vertical-align: middle;\n",
       "    }\n",
       "\n",
       "    .dataframe tbody tr th {\n",
       "        vertical-align: top;\n",
       "    }\n",
       "\n",
       "    .dataframe thead th {\n",
       "        text-align: right;\n",
       "    }\n",
       "</style>\n",
       "<table border=\"1\" class=\"dataframe\">\n",
       "  <thead>\n",
       "    <tr style=\"text-align: right;\">\n",
       "      <th></th>\n",
       "      <th>ERROR</th>\n",
       "    </tr>\n",
       "  </thead>\n",
       "  <tbody>\n",
       "    <tr>\n",
       "      <th>25587</th>\n",
       "      <td>0.736453</td>\n",
       "    </tr>\n",
       "    <tr>\n",
       "      <th>54019</th>\n",
       "      <td>0.671642</td>\n",
       "    </tr>\n",
       "    <tr>\n",
       "      <th>46740</th>\n",
       "      <td>1.851559</td>\n",
       "    </tr>\n",
       "    <tr>\n",
       "      <th>41234</th>\n",
       "      <td>1.076321</td>\n",
       "    </tr>\n",
       "    <tr>\n",
       "      <th>51810</th>\n",
       "      <td>1.132404</td>\n",
       "    </tr>\n",
       "    <tr>\n",
       "      <th>...</th>\n",
       "      <td>...</td>\n",
       "    </tr>\n",
       "    <tr>\n",
       "      <th>33965</th>\n",
       "      <td>1.051502</td>\n",
       "    </tr>\n",
       "    <tr>\n",
       "      <th>53546</th>\n",
       "      <td>1.197209</td>\n",
       "    </tr>\n",
       "    <tr>\n",
       "      <th>49265</th>\n",
       "      <td>1.325468</td>\n",
       "    </tr>\n",
       "    <tr>\n",
       "      <th>20248</th>\n",
       "      <td>0.921280</td>\n",
       "    </tr>\n",
       "    <tr>\n",
       "      <th>12381</th>\n",
       "      <td>1.023999</td>\n",
       "    </tr>\n",
       "  </tbody>\n",
       "</table>\n",
       "<p>8064 rows × 1 columns</p>\n",
       "</div>"
      ],
      "text/plain": [
       "          ERROR\n",
       "25587  0.736453\n",
       "54019  0.671642\n",
       "46740  1.851559\n",
       "41234  1.076321\n",
       "51810  1.132404\n",
       "...         ...\n",
       "33965  1.051502\n",
       "53546  1.197209\n",
       "49265  1.325468\n",
       "20248  0.921280\n",
       "12381  1.023999\n",
       "\n",
       "[8064 rows x 1 columns]"
      ]
     },
     "execution_count": 126,
     "metadata": {},
     "output_type": "execute_result"
    }
   ],
   "source": [
    "test_error_ratio.loc[(test_error_ratio['ERROR'] > 0.5) & (test_error_ratio['ERROR'] < 2)]"
   ]
  },
  {
   "cell_type": "code",
   "execution_count": 128,
   "metadata": {},
   "outputs": [
    {
     "data": {
      "image/png": "[encoded data removed]",
      "text/plain": [
       "<Figure size 432x288 with 1 Axes>"
      ]
     },
     "metadata": {
      "needs_background": "light"
     },
     "output_type": "display_data"
    }
   ],
   "source": [
    "g=plt.plot(y_test/rf_pred_test,marker='o',linestyle='')"
   ]
  },
  {
   "cell_type": "code",
   "execution_count": null,
   "metadata": {},
   "outputs": [],
   "source": []
  },
  {
   "cell_type": "code",
   "execution_count": 129,
   "metadata": {},
   "outputs": [],
   "source": [
    "#Analysis on test error difference"
   ]
  },
  {
   "cell_type": "code",
   "execution_count": 130,
   "metadata": {},
   "outputs": [],
   "source": [
    "test_error_diff = pd.DataFrame(y_test - rf_pred_test)"
   ]
  },
  {
   "cell_type": "code",
   "execution_count": 131,
   "metadata": {},
   "outputs": [
    {
     "data": {
      "text/plain": [
       "<matplotlib.axes._subplots.AxesSubplot at 0x23ac1842108>"
      ]
     },
     "execution_count": 131,
     "metadata": {},
     "output_type": "execute_result"
    },
    {
     "data": {
      "image/png": "[encoded data removed]",
      "text/plain": [
       "<Figure size 1440x1440 with 1 Axes>"
      ]
     },
     "metadata": {
      "needs_background": "light"
     },
     "output_type": "display_data"
    }
   ],
   "source": [
    "test_error_diff.plot(kind='bar',figsize=(20,20))"
   ]
  },
  {
   "cell_type": "code",
   "execution_count": 132,
   "metadata": {},
   "outputs": [],
   "source": [
    "test_error_diff.columns = ['ERROR']"
   ]
  },
  {
   "cell_type": "code",
   "execution_count": 133,
   "metadata": {},
   "outputs": [
    {
     "name": "stdout",
     "output_type": "stream",
     "text": [
      "Size of test samples : 14784\n"
     ]
    }
   ],
   "source": [
    "print(\"Size of test samples :\",len(test_error_diff))"
   ]
  },
  {
   "cell_type": "code",
   "execution_count": 134,
   "metadata": {},
   "outputs": [
    {
     "data": {
      "text/html": [
       "<div>\n",
       "<style scoped>\n",
       "    .dataframe tbody tr th:only-of-type {\n",
       "        vertical-align: middle;\n",
       "    }\n",
       "\n",
       "    .dataframe tbody tr th {\n",
       "        vertical-align: top;\n",
       "    }\n",
       "\n",
       "    .dataframe thead th {\n",
       "        text-align: right;\n",
       "    }\n",
       "</style>\n",
       "<table border=\"1\" class=\"dataframe\">\n",
       "  <thead>\n",
       "    <tr style=\"text-align: right;\">\n",
       "      <th></th>\n",
       "      <th>ERROR</th>\n",
       "    </tr>\n",
       "  </thead>\n",
       "  <tbody>\n",
       "    <tr>\n",
       "      <th>54019</th>\n",
       "      <td>-4.4</td>\n",
       "    </tr>\n",
       "    <tr>\n",
       "      <th>45001</th>\n",
       "      <td>-262.3</td>\n",
       "    </tr>\n",
       "    <tr>\n",
       "      <th>38402</th>\n",
       "      <td>226.7</td>\n",
       "    </tr>\n",
       "    <tr>\n",
       "      <th>39159</th>\n",
       "      <td>-426.0</td>\n",
       "    </tr>\n",
       "    <tr>\n",
       "      <th>4535</th>\n",
       "      <td>-2.0</td>\n",
       "    </tr>\n",
       "    <tr>\n",
       "      <th>...</th>\n",
       "      <td>...</td>\n",
       "    </tr>\n",
       "    <tr>\n",
       "      <th>3571</th>\n",
       "      <td>16.1</td>\n",
       "    </tr>\n",
       "    <tr>\n",
       "      <th>49265</th>\n",
       "      <td>46.9</td>\n",
       "    </tr>\n",
       "    <tr>\n",
       "      <th>20248</th>\n",
       "      <td>-18.2</td>\n",
       "    </tr>\n",
       "    <tr>\n",
       "      <th>12381</th>\n",
       "      <td>29.6</td>\n",
       "    </tr>\n",
       "    <tr>\n",
       "      <th>34715</th>\n",
       "      <td>-29.4</td>\n",
       "    </tr>\n",
       "  </tbody>\n",
       "</table>\n",
       "<p>12309 rows × 1 columns</p>\n",
       "</div>"
      ],
      "text/plain": [
       "       ERROR\n",
       "54019   -4.4\n",
       "45001 -262.3\n",
       "38402  226.7\n",
       "39159 -426.0\n",
       "4535    -2.0\n",
       "...      ...\n",
       "3571    16.1\n",
       "49265   46.9\n",
       "20248  -18.2\n",
       "12381   29.6\n",
       "34715  -29.4\n",
       "\n",
       "[12309 rows x 1 columns]"
      ]
     },
     "execution_count": 134,
     "metadata": {},
     "output_type": "execute_result"
    }
   ],
   "source": [
    "test_error_diff.loc[(test_error_diff['ERROR'] > -1000) & (test_error_diff['ERROR'] < 1000)]"
   ]
  },
  {
   "cell_type": "code",
   "execution_count": null,
   "metadata": {},
   "outputs": [],
   "source": []
  },
  {
   "cell_type": "code",
   "execution_count": null,
   "metadata": {},
   "outputs": [],
   "source": []
  },
  {
   "cell_type": "code",
   "execution_count": null,
   "metadata": {},
   "outputs": [],
   "source": []
  }
 ],
 "metadata": {
  "kernelspec": {
   "display_name": "Python 3",
   "language": "python",
   "name": "python3"
  }
 },
 "nbformat": 4,
 "nbformat_minor": 4
}
